{
 "cells": [
  {
   "cell_type": "code",
   "execution_count": 1,
   "metadata": {},
   "outputs": [],
   "source": [
    "def Initialise (Gin):\n",
    "    global c,phi,l,cp,lp,Nsink\n",
    "    Nsink=1\n",
    "    for arc in Gin:\n",
    "        i,j=arc\n",
    "        Nsink=max(Nsink,i,j)\n",
    "    # for convenience c[i][j] is capacity of arc [i,j]\n",
    "    c=[[0 for i in range(Nsink+1)] for j in range(Nsink+1)]\n",
    "    phi=[[0 for i in range(Nsink+1)] for j in range(Nsink+1)]\n",
    "    l=[[0 for i in range(Nsink+1)] for j in range(Nsink+1)]\n",
    "    cp=[[0 for i in range(Nsink+1)] for j in range(Nsink+1)]\n",
    "    lp=[[0 for i in range(Nsink+1)] for j in range(Nsink+1)]\n",
    "    print(\"All values of c,phi and l initialised to zero\")"
   ]
  },
  {
   "cell_type": "code",
   "execution_count": 2,
   "metadata": {},
   "outputs": [],
   "source": [
    "def Flows (Gin):\n",
    "    global Nsink,l,phi\n",
    "    Flowin=[0 for i in range(Nsink+1)]\n",
    "    Flowout=[0 for i in range(Nsink+1)]\n",
    "    for arc in Gin:\n",
    "        i,j=arc\n",
    "        Flowin[j] = Flowin[j] + phi[i][j]\n",
    "        Flowout[i] = Flowout[i] + phi[i][j]\n",
    "    for k in range(2,Nsink):\n",
    "        if Flowin[k] != Flowout[k]:\n",
    "            print(\"*** ERROR *** Flow not conserved at node\", k)\n",
    "    if Flowout[1] != Flowin[Nsink]:\n",
    "        print(\"*** ERROR *** Flow not conserved at source or sink\")\n",
    "    Totalcost = 0\n",
    "    for arc in G:\n",
    "        i,j=arc\n",
    "        phi_ij = phi[i][j]\n",
    "        Totalcost = Totalcost + l[i][j]*phi_ij\n",
    "        print(arc,\" has flow \",phi_ij)\n",
    "    print(\"Total Cost is \", Totalcost)"
   ]
  },
  {
   "cell_type": "code",
   "execution_count": 3,
   "metadata": {},
   "outputs": [],
   "source": [
    "def Links (Gin):\n",
    "    global Nsink,Out\n",
    "    Out=[set() for k in range(Nsink)] # labelled 0..Nsink-1\n",
    "    for arc in Gin:\n",
    "        i,j = arc\n",
    "        Out[i - 1] = Out[i - 1] | set([j])"
   ]
  },
  {
   "cell_type": "code",
   "execution_count": 4,
   "metadata": {},
   "outputs": [],
   "source": [
    "def SourceSink(Gin):\n",
    "# finds all paths SinkPaths from source 1 to sink Nsink of network G \n",
    "    global Nsink,SinkPaths\n",
    "    Links(Gin)\n",
    "    Paths = set() # current paths from source stored as set of tuples\n",
    "    SinkPaths = set() # paths from source to sink Nsink stored as set of tuples\n",
    "    path = 1 # source node label\n",
    "    for node in Out[0]:# need out edge from node 1\n",
    "        pathn = (path,node)\n",
    "        if node == Nsink:\n",
    "            SinkPaths = SinkPaths | set([pathn])\n",
    "        else:\n",
    "            Paths = Paths | set([pathn])\n",
    "    Npaths = len(Paths)\n",
    "    while (0 < Npaths):\n",
    "        NewPaths = set()\n",
    "        for oldpath in Paths:\n",
    "            nold = len(oldpath)\n",
    "            m = oldpath[-1] # last node in tuple oldpath\n",
    "            for mout in Out[m-1]:\n",
    "                if not mout in oldpath:\n",
    "                    if mout == Nsink:\n",
    "                        SinkPaths = SinkPaths | set([oldpath+tuple([Nsink])])\n",
    "                    else:\n",
    "                        NewPaths = NewPaths | set([oldpath+tuple([mout])])\n",
    "        Paths = NewPaths\n",
    "        Npaths = len(Paths)\n",
    "    print(\"Paths from source to sink: \",SinkPaths)"
   ]
  },
  {
   "cell_type": "code",
   "execution_count": 5,
   "metadata": {},
   "outputs": [],
   "source": [
    "def Newflows(Gin):\n",
    "# A procedure to modify original flows on Gin along SinkPaths of Gp with minimal cost\n",
    "    global Gp,phi,c,l,cp,lp,ArcSign,Out\n",
    "    SourceSink(Gp)\n",
    "    if SinkPaths == set():\n",
    "        Links(Gin)\n",
    "        Flow = 0\n",
    "        for node in Out[0]:\n",
    "            Flow = Flow + phi[1][node]\n",
    "        Cost=0\n",
    "        for arc in Gin:\n",
    "            i,j=arc\n",
    "            Cost=Cost+l[i][j]*phi[i][j]\n",
    "        print(\"Maximal flow found:\", Flow, \" with minimal cost \", Cost)\n",
    "    else:\n",
    "        for k in range(len(SinkPaths)):\n",
    "            cost = 0\n",
    "            epset = set()\n",
    "            path=list(SinkPaths)[k]\n",
    "            for n in range(0, len(path)-1):\n",
    "                i = path[n]; j = path[n+1];  epset = epset | set([cp[i][j]]); cost = lp[i][j] + cost\n",
    "            eps = min(tuple(epset))\n",
    "            if k == 0: # first path\n",
    "                mincost = cost; bestpath = path; besteps = eps\n",
    "            elif cost < mincost: \n",
    "                mincost = cost; bestpath = path; besteps = eps\n",
    "        print(\"A best path in Gp is \", bestpath, \" of minimum cost \", mincost)\n",
    "        print(\"The min capacity on this path is epsilon \", eps)\n",
    "        print(\"The min cost is \", mincost)\n",
    "        for k in range(0, len(bestpath) - 1):\n",
    "            i = bestpath[k]; j = bestpath[k+1]\n",
    "            if ArcSign[i][j] == 1:\n",
    "                phinewij = phi[i][j] + besteps; phi[i][j]=phinewij\n",
    "            else:\n",
    "                phinewji=phi[j][i] = phi[j][i] - besteps; phi[j][i]=phinewji\n",
    "    #print(\"Flow=\",Flow)"
   ]
  },
  {
   "cell_type": "code",
   "execution_count": 6,
   "metadata": {},
   "outputs": [],
   "source": [
    "\n",
    "def Iterate(Gin):\n",
    "    IncremNet(Gin)\n",
    "    Newflows(Gin)\n",
    "    for arc in Gin:\n",
    "        i,j=arc\n",
    "        print((i,j),\" flow = \", phi[i][j])"
   ]
  },
  {
   "cell_type": "code",
   "execution_count": 7,
   "metadata": {},
   "outputs": [],
   "source": [
    "def IncremNet(Gin):\n",
    "# procedure to create incremental network Gp from given flow network G \n",
    "    global Gp,Nsink,phi,c,l,cp,lp,ArcSign\n",
    "# define lists for ArcSign, cp and lp  (indexed by 0..Nsink-1)\n",
    "    cp=[[0 for i in range(Nsink+1)] for j in range(Nsink+1)]\n",
    "    lp=[[0 for i in range(Nsink+1)] for j in range(Nsink+1)]\n",
    "    ArcSign=[[0 for i in range(Nsink+1)] for j in range(Nsink+1)]\n",
    "    Gp=set([])\n",
    "    for arc in Gin:\n",
    "        i,j=arc\n",
    "        pij = phi[i][j]; pji = phi[j][i]; cij = c[i][j]; lij = l[i][j]\n",
    "        if (pij < cij and (pji == 0 or not (j,i) in Gin)): # ij arc\n",
    "            #Gp edges, capacitites and costs added\n",
    "            cpij = cij - pij; cp[i][j] = cpij; lpij = lij; lp[i][j] =lpij\n",
    "            ArcSign[i][j] = 1\n",
    "            Gp=Gp | {(i,j)}\n",
    "        if pij>0: # ji arc\n",
    "            cpji = pij; cp[j][i] = cpji; lpji=-lij; lp[j][i] = lpji\n",
    "            ArcSign[j][i] = -1\n",
    "            Gp=Gp | {(j,i)}\n",
    "    print(\"Incremental Network:\",Gp)"
   ]
  },
  {
   "cell_type": "code",
   "execution_count": 8,
   "metadata": {},
   "outputs": [],
   "source": [
    "G={(1,2),(1,3),(2,4),(2,5),(3,4),(3,5),(4,6),(5,6)}"
   ]
  },
  {
   "cell_type": "code",
   "execution_count": 9,
   "metadata": {},
   "outputs": [
    {
     "name": "stdout",
     "output_type": "stream",
     "text": [
      "All values of c,phi and l initialised to zero\n"
     ]
    }
   ],
   "source": [
    "Initialise(G)"
   ]
  },
  {
   "cell_type": "code",
   "execution_count": 10,
   "metadata": {},
   "outputs": [],
   "source": [
    "c[1][2]=3; c[1][3]=5; c[2][4]=3; c[2][5]=3 \n",
    "c[3][5]=5; c[3][4]=5; c[4][6]=2; c[5][6]=5"
   ]
  },
  {
   "cell_type": "code",
   "execution_count": 11,
   "metadata": {},
   "outputs": [],
   "source": [
    "l[1][2]=5; l[1][3]=3; l[2][4]=3 \n",
    "l[2][5]=6; l[3][4]=5 \n",
    "l[3][5]=9"
   ]
  },
  {
   "cell_type": "code",
   "execution_count": 12,
   "metadata": {},
   "outputs": [
    {
     "name": "stdout",
     "output_type": "stream",
     "text": [
      "((1, 2), ' has flow ', 0)\n",
      "((1, 3), ' has flow ', 0)\n",
      "((4, 6), ' has flow ', 0)\n",
      "((5, 6), ' has flow ', 0)\n",
      "((2, 5), ' has flow ', 0)\n",
      "((3, 4), ' has flow ', 0)\n",
      "((2, 4), ' has flow ', 0)\n",
      "((3, 5), ' has flow ', 0)\n",
      "('Total Cost is ', 0)\n"
     ]
    }
   ],
   "source": [
    "Flows(G)"
   ]
  },
  {
   "cell_type": "code",
   "execution_count": 13,
   "metadata": {},
   "outputs": [
    {
     "name": "stdout",
     "output_type": "stream",
     "text": [
      "('Incremental Network:', set([(1, 2), (1, 3), (4, 6), (5, 6), (2, 5), (3, 4), (2, 4), (3, 5)]))\n",
      "('Paths from source to sink: ', set([(1, 2, 5, 6), (1, 3, 5, 6), (1, 2, 4, 6), (1, 3, 4, 6)]))\n",
      "('A best path in Gp is ', (1, 2, 4, 6), ' of minimum cost ', 8)\n",
      "('The min capacity on this path is epsilon ', 2)\n",
      "('The min cost is ', 8)\n",
      "((1, 2), ' flow = ', 2)\n",
      "((1, 3), ' flow = ', 0)\n",
      "((4, 6), ' flow = ', 2)\n",
      "((5, 6), ' flow = ', 0)\n",
      "((2, 5), ' flow = ', 0)\n",
      "((3, 4), ' flow = ', 0)\n",
      "((2, 4), ' flow = ', 2)\n",
      "((3, 5), ' flow = ', 0)\n"
     ]
    }
   ],
   "source": [
    "Iterate(G)"
   ]
  },
  {
   "cell_type": "code",
   "execution_count": 14,
   "metadata": {},
   "outputs": [
    {
     "name": "stdout",
     "output_type": "stream",
     "text": [
      "('Incremental Network:', set([(1, 2), (6, 4), (1, 3), (5, 6), (2, 1), (4, 2), (2, 5), (3, 4), (2, 4), (3, 5)]))\n",
      "('Paths from source to sink: ', set([(1, 2, 5, 6), (1, 3, 4, 2, 5, 6), (1, 3, 5, 6)]))\n",
      "('A best path in Gp is ', (1, 2, 5, 6), ' of minimum cost ', 11)\n",
      "('The min capacity on this path is epsilon ', 5)\n",
      "('The min cost is ', 11)\n",
      "((1, 2), ' flow = ', 3)\n",
      "((1, 3), ' flow = ', 0)\n",
      "((4, 6), ' flow = ', 2)\n",
      "((5, 6), ' flow = ', 1)\n",
      "((2, 5), ' flow = ', 1)\n",
      "((3, 4), ' flow = ', 0)\n",
      "((2, 4), ' flow = ', 2)\n",
      "((3, 5), ' flow = ', 0)\n"
     ]
    }
   ],
   "source": [
    "\n",
    "Iterate(G)"
   ]
  },
  {
   "cell_type": "code",
   "execution_count": 15,
   "metadata": {},
   "outputs": [
    {
     "name": "stdout",
     "output_type": "stream",
     "text": [
      "('Incremental Network:', set([(6, 4), (1, 3), (5, 6), (5, 2), (2, 1), (4, 2), (2, 5), (3, 4), (2, 4), (6, 5), (3, 5)]))\n",
      "('Paths from source to sink: ', set([(1, 3, 4, 2, 5, 6), (1, 3, 5, 6)]))\n",
      "('A best path in Gp is ', (1, 3, 4, 2, 5, 6), ' of minimum cost ', 11)\n",
      "('The min capacity on this path is epsilon ', 4)\n",
      "('The min cost is ', 11)\n",
      "((1, 2), ' flow = ', 3)\n",
      "((1, 3), ' flow = ', 2)\n",
      "((4, 6), ' flow = ', 2)\n",
      "((5, 6), ' flow = ', 3)\n",
      "((2, 5), ' flow = ', 3)\n",
      "((3, 4), ' flow = ', 2)\n",
      "((2, 4), ' flow = ', 0)\n",
      "((3, 5), ' flow = ', 0)\n"
     ]
    }
   ],
   "source": [
    "\n",
    "Iterate(G)"
   ]
  },
  {
   "cell_type": "code",
   "execution_count": 16,
   "metadata": {},
   "outputs": [
    {
     "name": "stdout",
     "output_type": "stream",
     "text": [
      "('Incremental Network:', set([(6, 4), (1, 3), (5, 6), (5, 2), (3, 1), (2, 1), (4, 3), (3, 4), (2, 4), (6, 5), (3, 5)]))\n",
      "('Paths from source to sink: ', set([(1, 3, 5, 6)]))\n",
      "('A best path in Gp is ', (1, 3, 5, 6), ' of minimum cost ', 12)\n",
      "('The min capacity on this path is epsilon ', 2)\n",
      "('The min cost is ', 12)\n",
      "((1, 2), ' flow = ', 3)\n",
      "((1, 3), ' flow = ', 4)\n",
      "((4, 6), ' flow = ', 2)\n",
      "((5, 6), ' flow = ', 5)\n",
      "((2, 5), ' flow = ', 3)\n",
      "((3, 4), ' flow = ', 2)\n",
      "((2, 4), ' flow = ', 0)\n",
      "((3, 5), ' flow = ', 2)\n"
     ]
    }
   ],
   "source": [
    "Iterate(G)"
   ]
  },
  {
   "cell_type": "code",
   "execution_count": 17,
   "metadata": {},
   "outputs": [
    {
     "ename": "SyntaxError",
     "evalue": "invalid syntax (<ipython-input-17-b6e7bb7c840c>, line 2)",
     "output_type": "error",
     "traceback": [
      "\u001b[1;36m  File \u001b[1;32m\"<ipython-input-17-b6e7bb7c840c>\"\u001b[1;36m, line \u001b[1;32m2\u001b[0m\n\u001b[1;33m    time for all care from A to B.\u001b[0m\n\u001b[1;37m           ^\u001b[0m\n\u001b[1;31mSyntaxError\u001b[0m\u001b[1;31m:\u001b[0m invalid syntax\n"
     ]
    }
   ],
   "source": [
    "# Find the maximal flow through the network for minimal total travel\n",
    "time for all care from A to B."
   ]
  },
  {
   "cell_type": "code",
   "execution_count": 18,
   "metadata": {},
   "outputs": [],
   "source": [
    "def Initialise (Gin):\n",
    "    global c,phi,l,cp,lp,Nsink\n",
    "    Nsink=1\n",
    "    for arc in Gin:\n",
    "        i,j=arc\n",
    "        Nsink=max(Nsink,i,j)\n",
    "    # for convenience c[i][j] is capacity of arc [i,j]\n",
    "    c=[[0 for i in range(Nsink+1)] for j in range(Nsink+1)]\n",
    "    phi=[[0 for i in range(Nsink+1)] for j in range(Nsink+1)]\n",
    "    l=[[0 for i in range(Nsink+1)] for j in range(Nsink+1)]\n",
    "    cp=[[0 for i in range(Nsink+1)] for j in range(Nsink+1)]\n",
    "    lp=[[0 for i in range(Nsink+1)] for j in range(Nsink+1)]\n",
    "    print(\"All values of c,phi and l initialised to zero\")"
   ]
  },
  {
   "cell_type": "code",
   "execution_count": 19,
   "metadata": {},
   "outputs": [],
   "source": [
    "def Flows (Gin):\n",
    "    global Nsink,l,phi\n",
    "    Flowin=[0 for i in range(Nsink+1)]\n",
    "    Flowout=[0 for i in range(Nsink+1)]\n",
    "    for arc in Gin:\n",
    "        i,j=arc\n",
    "        Flowin[j] = Flowin[j] + phi[i][j]\n",
    "        Flowout[i] = Flowout[i] + phi[i][j]\n",
    "    for k in range(2,Nsink):\n",
    "        if Flowin[k] != Flowout[k]:\n",
    "            print(\"*** ERROR *** Flow not conserved at node\", k)\n",
    "    if Flowout[1] != Flowin[Nsink]:\n",
    "        print(\"*** ERROR *** Flow not conserved at source or sink\")\n",
    "    Totalcost = 0\n",
    "    for arc in G:\n",
    "        i,j=arc\n",
    "        phi_ij = phi[i][j]\n",
    "        Totalcost = Totalcost + l[i][j]*phi_ij\n",
    "        print(arc,\" has flow \",phi_ij)\n",
    "    print(\"Total Cost is \", Totalcost)"
   ]
  },
  {
   "cell_type": "code",
   "execution_count": 20,
   "metadata": {},
   "outputs": [],
   "source": [
    "def Links (Gin):\n",
    "    global Nsink,Out\n",
    "    Out=[set() for k in range(Nsink)] # labelled 0..Nsink-1\n",
    "    for arc in Gin:\n",
    "        i,j = arc\n",
    "        Out[i - 1] = Out[i - 1] | set([j])"
   ]
  },
  {
   "cell_type": "code",
   "execution_count": 21,
   "metadata": {},
   "outputs": [],
   "source": [
    "def SourceSink(Gin):\n",
    "# finds all paths SinkPaths from source 1 to sink Nsink of network G \n",
    "    global Nsink,SinkPaths\n",
    "    Links(Gin)\n",
    "    Paths = set() # current paths from source stored as set of tuples\n",
    "    SinkPaths = set() # paths from source to sink Nsink stored as set of tuples\n",
    "    path = 1 # source node label\n",
    "    for node in Out[0]:# need out edge from node 1\n",
    "        pathn = (path,node)\n",
    "        if node == Nsink:\n",
    "            SinkPaths = SinkPaths | set([pathn])\n",
    "        else:\n",
    "            Paths = Paths | set([pathn])\n",
    "    Npaths = len(Paths)\n",
    "    while (0 < Npaths):\n",
    "        NewPaths = set()\n",
    "        for oldpath in Paths:\n",
    "            nold = len(oldpath)\n",
    "            m = oldpath[-1] # last node in tuple oldpath\n",
    "            for mout in Out[m-1]:\n",
    "                if not mout in oldpath:\n",
    "                    if mout == Nsink:\n",
    "                        SinkPaths = SinkPaths | set([oldpath+tuple([Nsink])])\n",
    "                    else:\n",
    "                        NewPaths = NewPaths | set([oldpath+tuple([mout])])\n",
    "        Paths = NewPaths\n",
    "        Npaths = len(Paths)\n",
    "    print(\"Paths from source to sink: \",SinkPaths)"
   ]
  },
  {
   "cell_type": "code",
   "execution_count": 22,
   "metadata": {},
   "outputs": [],
   "source": [
    "def SourceSink(Gin):\n",
    "# finds all paths SinkPaths from source 1 to sink Nsink of network G \n",
    "    global Nsink,SinkPaths\n",
    "    Links(Gin)\n",
    "    Paths = set() # current paths from source stored as set of tuples\n",
    "    SinkPaths = set() # paths from source to sink Nsink stored as set of tuples\n",
    "    path = 1 # source node label\n",
    "    for node in Out[0]:# need out edge from node 1\n",
    "        pathn = (path,node)\n",
    "        if node == Nsink:\n",
    "            SinkPaths = SinkPaths | set([pathn])\n",
    "        else:\n",
    "            Paths = Paths | set([pathn])\n",
    "    Npaths = len(Paths)\n",
    "    while (0 < Npaths):\n",
    "        NewPaths = set()\n",
    "        for oldpath in Paths:\n",
    "            nold = len(oldpath)\n",
    "            m = oldpath[-1] # last node in tuple oldpath\n",
    "            for mout in Out[m-1]:\n",
    "                if not mout in oldpath:\n",
    "                    if mout == Nsink:\n",
    "                        SinkPaths = SinkPaths | set([oldpath+tuple([Nsink])])\n",
    "                    else:\n",
    "                        NewPaths = NewPaths | set([oldpath+tuple([mout])])\n",
    "        Paths = NewPaths\n",
    "        Npaths = len(Paths)\n",
    "    print(\"Paths from source to sink: \",SinkPaths)"
   ]
  },
  {
   "cell_type": "code",
   "execution_count": 23,
   "metadata": {},
   "outputs": [],
   "source": [
    "def Newflows(Gin):\n",
    "# A procedure to modify original flows on Gin along SinkPaths of Gp with minimal cost\n",
    "    global Gp,phi,c,l,cp,lp,ArcSign,Out\n",
    "    SourceSink(Gp)\n",
    "    if SinkPaths == set():\n",
    "        Links(Gin)\n",
    "        Flow = 0\n",
    "        for node in Out[0]:\n",
    "            Flow = Flow + phi[1][node]\n",
    "        Cost=0\n",
    "        for arc in Gin:\n",
    "            i,j=arc\n",
    "            Cost=Cost+l[i][j]*phi[i][j]\n",
    "        print(\"Maximal flow found:\", Flow, \" with minimal cost \", Cost)\n",
    "    else:\n",
    "        for k in range(len(SinkPaths)):\n",
    "            cost = 0\n",
    "            epset = set()\n",
    "            path=list(SinkPaths)[k]\n",
    "            for n in range(0, len(path)-1):\n",
    "                i = path[n]; j = path[n+1];  epset = epset | set([cp[i][j]]); cost = lp[i][j] + cost\n",
    "            eps = min(tuple(epset))\n",
    "            if k == 0: # first path\n",
    "                mincost = cost; bestpath = path; besteps = eps\n",
    "            elif cost < mincost: \n",
    "                mincost = cost; bestpath = path; besteps = eps\n",
    "        print(\"A best path in Gp is \", bestpath, \" of minimum cost \", mincost)\n",
    "        print(\"The min capacity on this path is epsilon \", eps)\n",
    "        print(\"The min cost is \", mincost)\n",
    "        for k in range(0, len(bestpath) - 1):\n",
    "            i = bestpath[k]; j = bestpath[k+1]\n",
    "            if ArcSign[i][j] == 1:\n",
    "                phinewij = phi[i][j] + besteps; phi[i][j]=phinewij\n",
    "            else:\n",
    "                phinewji=phi[j][i] = phi[j][i] - besteps; phi[j][i]=phinewji\n",
    "    #print(\"Flow=\",Flow)"
   ]
  },
  {
   "cell_type": "code",
   "execution_count": 24,
   "metadata": {},
   "outputs": [],
   "source": [
    "def Iterate(Gin):\n",
    "    IncremNet(Gin)\n",
    "    Newflows(Gin)\n",
    "    for arc in Gin:\n",
    "        i,j=arc\n",
    "        print((i,j),\" flow = \", phi[i][j])"
   ]
  },
  {
   "cell_type": "code",
   "execution_count": 25,
   "metadata": {},
   "outputs": [],
   "source": [
    "def IncremNet(Gin):\n",
    "# procedure to create incremental network Gp from given flow network G \n",
    "    global Gp,Nsink,phi,c,l,cp,lp,ArcSign\n",
    "# define lists for ArcSign, cp and lp  (indexed by 0..Nsink-1)\n",
    "    cp=[[0 for i in range(Nsink+1)] for j in range(Nsink+1)]\n",
    "    lp=[[0 for i in range(Nsink+1)] for j in range(Nsink+1)]\n",
    "    ArcSign=[[0 for i in range(Nsink+1)] for j in range(Nsink+1)]\n",
    "    Gp=set([])\n",
    "    for arc in Gin:\n",
    "        i,j=arc\n",
    "        pij = phi[i][j]; pji = phi[j][i]; cij = c[i][j]; lij = l[i][j]\n",
    "        if (pij < cij and (pji == 0 or not (j,i) in Gin)): # ij arc\n",
    "            #Gp edges, capacitites and costs added\n",
    "            cpij = cij - pij; cp[i][j] = cpij; lpij = lij; lp[i][j] =lpij\n",
    "            ArcSign[i][j] = 1\n",
    "            Gp=Gp | {(i,j)}\n",
    "        if pij>0: # ji arc\n",
    "            cpji = pij; cp[j][i] = cpji; lpji=-lij; lp[j][i] = lpji\n",
    "            ArcSign[j][i] = -1\n",
    "            Gp=Gp | {(j,i)}\n",
    "    print(\"Incremental Network:\",Gp)"
   ]
  },
  {
   "cell_type": "code",
   "execution_count": 26,
   "metadata": {},
   "outputs": [],
   "source": [
    "G={(1,2),(1,3),(2,4),(2,5),(3,4),(3,7),(4,6),(5,6),(5,8),(6,7),(7,8)}"
   ]
  },
  {
   "cell_type": "code",
   "execution_count": 27,
   "metadata": {},
   "outputs": [
    {
     "name": "stdout",
     "output_type": "stream",
     "text": [
      "All values of c,phi and l initialised to zero\n"
     ]
    }
   ],
   "source": [
    "Initialise(G)"
   ]
  },
  {
   "cell_type": "code",
   "execution_count": 28,
   "metadata": {},
   "outputs": [],
   "source": [
    "c[1][2]=5; c[1][3]=4; c[2][4]=4; c[2][5]=3 \n",
    "c[3][7]=3; c[3][4]=5; c[4][6]=5; c[5][6]=2\n",
    "c[5][8]=6; c[6][7]=4; c[7][8]=4"
   ]
  },
  {
   "cell_type": "code",
   "execution_count": 29,
   "metadata": {},
   "outputs": [],
   "source": [
    "l[1][2]=5; l[1][3]=3; l[2][4]=3 \n",
    "l[2][5]=6; l[3][4]=5; l[3][7]=9\n",
    "l[4][6]=5; l[5][6]=2; l[5][8]=6\n",
    "l[6][7]=4; l[7][8]=4"
   ]
  },
  {
   "cell_type": "code",
   "execution_count": 30,
   "metadata": {},
   "outputs": [
    {
     "name": "stdout",
     "output_type": "stream",
     "text": [
      "((1, 2), ' has flow ', 0)\n",
      "((1, 3), ' has flow ', 0)\n",
      "((6, 7), ' has flow ', 0)\n",
      "((4, 6), ' has flow ', 0)\n",
      "((5, 6), ' has flow ', 0)\n",
      "((7, 8), ' has flow ', 0)\n",
      "((3, 7), ' has flow ', 0)\n",
      "((2, 5), ' has flow ', 0)\n",
      "((3, 4), ' has flow ', 0)\n",
      "((2, 4), ' has flow ', 0)\n",
      "((5, 8), ' has flow ', 0)\n",
      "('Total Cost is ', 0)\n"
     ]
    }
   ],
   "source": [
    "Flows(G)"
   ]
  },
  {
   "cell_type": "code",
   "execution_count": 31,
   "metadata": {},
   "outputs": [
    {
     "name": "stdout",
     "output_type": "stream",
     "text": [
      "('Incremental Network:', set([(1, 2), (1, 3), (6, 7), (4, 6), (5, 6), (3, 4), (3, 7), (2, 5), (7, 8), (2, 4), (5, 8)]))\n",
      "('Paths from source to sink: ', set([(1, 3, 7, 8), (1, 3, 4, 6, 7, 8), (1, 2, 4, 6, 7, 8), (1, 2, 5, 6, 7, 8), (1, 2, 5, 8)]))\n",
      "('A best path in Gp is ', (1, 3, 7, 8), ' of minimum cost ', 16)\n",
      "('The min capacity on this path is epsilon ', 3)\n",
      "('The min cost is ', 16)\n",
      "((1, 2), ' flow = ', 0)\n",
      "((1, 3), ' flow = ', 3)\n",
      "((6, 7), ' flow = ', 0)\n",
      "((4, 6), ' flow = ', 0)\n",
      "((5, 6), ' flow = ', 0)\n",
      "((7, 8), ' flow = ', 3)\n",
      "((3, 7), ' flow = ', 3)\n",
      "((2, 5), ' flow = ', 0)\n",
      "((3, 4), ' flow = ', 0)\n",
      "((2, 4), ' flow = ', 0)\n",
      "((5, 8), ' flow = ', 0)\n"
     ]
    }
   ],
   "source": [
    "Iterate(G)"
   ]
  },
  {
   "cell_type": "code",
   "execution_count": 32,
   "metadata": {},
   "outputs": [
    {
     "name": "stdout",
     "output_type": "stream",
     "text": [
      "('Incremental Network:', set([(1, 2), (7, 3), (1, 3), (6, 7), (4, 6), (5, 6), (3, 4), (3, 1), (8, 7), (2, 5), (7, 8), (2, 4), (5, 8)]))\n",
      "('Paths from source to sink: ', set([(1, 3, 4, 6, 7, 8), (1, 2, 4, 6, 7, 8), (1, 2, 5, 6, 7, 8), (1, 2, 5, 8)]))\n",
      "('A best path in Gp is ', (1, 2, 5, 8), ' of minimum cost ', 17)\n",
      "('The min capacity on this path is epsilon ', 3)\n",
      "('The min cost is ', 17)\n",
      "((1, 2), ' flow = ', 3)\n",
      "((1, 3), ' flow = ', 3)\n",
      "((6, 7), ' flow = ', 0)\n",
      "((4, 6), ' flow = ', 0)\n",
      "((5, 6), ' flow = ', 0)\n",
      "((7, 8), ' flow = ', 3)\n",
      "((3, 7), ' flow = ', 3)\n",
      "((2, 5), ' flow = ', 3)\n",
      "((3, 4), ' flow = ', 0)\n",
      "((2, 4), ' flow = ', 0)\n",
      "((5, 8), ' flow = ', 3)\n"
     ]
    }
   ],
   "source": [
    "Iterate(G)"
   ]
  },
  {
   "cell_type": "code",
   "execution_count": 33,
   "metadata": {},
   "outputs": [
    {
     "name": "stdout",
     "output_type": "stream",
     "text": [
      "('Incremental Network:', set([(1, 2), (7, 3), (1, 3), (6, 7), (4, 6), (5, 6), (3, 4), (3, 1), (7, 8), (2, 1), (8, 5), (8, 7), (5, 2), (2, 4), (5, 8)]))\n",
      "('Paths from source to sink: ', set([(1, 3, 4, 6, 7, 8), (1, 2, 4, 6, 7, 8)]))\n",
      "('A best path in Gp is ', (1, 3, 4, 6, 7, 8), ' of minimum cost ', 21)\n",
      "('The min capacity on this path is epsilon ', 1)\n",
      "('The min cost is ', 21)\n",
      "((1, 2), ' flow = ', 3)\n",
      "((1, 3), ' flow = ', 4)\n",
      "((6, 7), ' flow = ', 1)\n",
      "((4, 6), ' flow = ', 1)\n",
      "((5, 6), ' flow = ', 0)\n",
      "((7, 8), ' flow = ', 4)\n",
      "((3, 7), ' flow = ', 3)\n",
      "((2, 5), ' flow = ', 3)\n",
      "((3, 4), ' flow = ', 1)\n",
      "((2, 4), ' flow = ', 0)\n",
      "((5, 8), ' flow = ', 3)\n"
     ]
    }
   ],
   "source": [
    "Iterate(G)"
   ]
  },
  {
   "cell_type": "code",
   "execution_count": 34,
   "metadata": {},
   "outputs": [
    {
     "name": "stdout",
     "output_type": "stream",
     "text": [
      "('Incremental Network:', set([(1, 2), (6, 4), (6, 7), (4, 6), (7, 3), (5, 6), (3, 4), (7, 6), (3, 1), (2, 1), (8, 5), (8, 7), (4, 3), (5, 2), (2, 4), (5, 8)]))\n",
      "('Paths from source to sink: ', set([]))\n",
      "('Maximal flow found:', 7, ' with minimal cost ', 120)\n",
      "((1, 2), ' flow = ', 3)\n",
      "((1, 3), ' flow = ', 4)\n",
      "((6, 7), ' flow = ', 1)\n",
      "((4, 6), ' flow = ', 1)\n",
      "((5, 6), ' flow = ', 0)\n",
      "((7, 8), ' flow = ', 4)\n",
      "((3, 7), ' flow = ', 3)\n",
      "((2, 5), ' flow = ', 3)\n",
      "((3, 4), ' flow = ', 1)\n",
      "((2, 4), ' flow = ', 0)\n",
      "((5, 8), ' flow = ', 3)\n"
     ]
    }
   ],
   "source": [
    "Iterate(G)"
   ]
  },
  {
   "cell_type": "code",
   "execution_count": 35,
   "metadata": {},
   "outputs": [
    {
     "name": "stdout",
     "output_type": "stream",
     "text": [
      "('Incremental Network:', set([(1, 2), (6, 4), (6, 7), (4, 6), (7, 3), (5, 6), (3, 4), (7, 6), (3, 1), (2, 1), (8, 5), (8, 7), (4, 3), (5, 2), (2, 4), (5, 8)]))\n",
      "('Paths from source to sink: ', set([]))\n",
      "('Maximal flow found:', 7, ' with minimal cost ', 120)\n",
      "((1, 2), ' flow = ', 3)\n",
      "((1, 3), ' flow = ', 4)\n",
      "((6, 7), ' flow = ', 1)\n",
      "((4, 6), ' flow = ', 1)\n",
      "((5, 6), ' flow = ', 0)\n",
      "((7, 8), ' flow = ', 4)\n",
      "((3, 7), ' flow = ', 3)\n",
      "((2, 5), ' flow = ', 3)\n",
      "((3, 4), ' flow = ', 1)\n",
      "((2, 4), ' flow = ', 0)\n",
      "((5, 8), ' flow = ', 3)\n"
     ]
    }
   ],
   "source": [
    "Iterate(G)"
   ]
  },
  {
   "cell_type": "code",
   "execution_count": null,
   "metadata": {},
   "outputs": [],
   "source": [
    "#Part2 "
   ]
  },
  {
   "cell_type": "code",
   "execution_count": 36,
   "metadata": {},
   "outputs": [],
   "source": [
    "G={(1,2),(1,4),(2,3),(3,5),(4,3),(5,6),(5,7),(6,8),(7,8),(7,2)}"
   ]
  },
  {
   "cell_type": "code",
   "execution_count": 37,
   "metadata": {},
   "outputs": [
    {
     "name": "stdout",
     "output_type": "stream",
     "text": [
      "All values of c,phi and l initialised to zero\n"
     ]
    }
   ],
   "source": [
    "Initialise(G)"
   ]
  },
  {
   "cell_type": "code",
   "execution_count": 38,
   "metadata": {},
   "outputs": [],
   "source": [
    "c[1][2]=4; c[1][4]=6; c[2][3]=4\n",
    "c[3][5]=5; c[4][3]=2; c[5][6]=4\n",
    "c[5][7]=5; c[6][8]=5; c[7][8]=4\n",
    "c[7][2]=4"
   ]
  },
  {
   "cell_type": "code",
   "execution_count": 39,
   "metadata": {},
   "outputs": [],
   "source": [
    "l[1][2]=1; l[1][4]=3; l[2][3]=3\n",
    "l[3][5]=2; l[4][3]=3; l[5][6]=3\n",
    "l[5][7]=1; l[6][8]=3; l[7][8]=2\n",
    "l[7][2]=2"
   ]
  },
  {
   "cell_type": "code",
   "execution_count": 40,
   "metadata": {},
   "outputs": [
    {
     "name": "stdout",
     "output_type": "stream",
     "text": [
      "((1, 2), ' has flow ', 0)\n",
      "((6, 8), ' has flow ', 0)\n",
      "((5, 6), ' has flow ', 0)\n",
      "((5, 7), ' has flow ', 0)\n",
      "((1, 4), ' has flow ', 0)\n",
      "((2, 3), ' has flow ', 0)\n",
      "((4, 3), ' has flow ', 0)\n",
      "((7, 8), ' has flow ', 0)\n",
      "((7, 2), ' has flow ', 0)\n",
      "((3, 5), ' has flow ', 0)\n",
      "('Total Cost is ', 0)\n"
     ]
    }
   ],
   "source": [
    "Flows(G)"
   ]
  },
  {
   "cell_type": "code",
   "execution_count": 41,
   "metadata": {},
   "outputs": [
    {
     "name": "stdout",
     "output_type": "stream",
     "text": [
      "('Incremental Network:', set([(1, 2), (6, 8), (5, 6), (5, 7), (1, 4), (2, 3), (4, 3), (7, 8), (7, 2), (3, 5)]))\n",
      "('Paths from source to sink: ', set([(1, 4, 3, 5, 6, 8), (1, 4, 3, 5, 7, 8), (1, 2, 3, 5, 6, 8), (1, 2, 3, 5, 7, 8)]))\n",
      "('A best path in Gp is ', (1, 2, 3, 5, 7, 8), ' of minimum cost ', 9)\n",
      "('The min capacity on this path is epsilon ', 4)\n",
      "('The min cost is ', 9)\n",
      "((1, 2), ' flow = ', 4)\n",
      "((6, 8), ' flow = ', 0)\n",
      "((5, 6), ' flow = ', 0)\n",
      "((5, 7), ' flow = ', 4)\n",
      "((1, 4), ' flow = ', 0)\n",
      "((2, 3), ' flow = ', 4)\n",
      "((4, 3), ' flow = ', 0)\n",
      "((7, 8), ' flow = ', 4)\n",
      "((7, 2), ' flow = ', 0)\n",
      "((3, 5), ' flow = ', 4)\n"
     ]
    }
   ],
   "source": [
    "Iterate(G)"
   ]
  },
  {
   "cell_type": "code",
   "execution_count": 42,
   "metadata": {},
   "outputs": [
    {
     "name": "stdout",
     "output_type": "stream",
     "text": [
      "('Incremental Network:', set([(3, 2), (6, 8), (5, 6), (5, 7), (1, 4), (7, 5), (2, 1), (8, 7), (4, 3), (5, 3), (7, 2), (3, 5)]))\n",
      "('Paths from source to sink: ', set([(1, 4, 3, 5, 6, 8)]))\n",
      "('A best path in Gp is ', (1, 4, 3, 5, 6, 8), ' of minimum cost ', 14)\n",
      "('The min capacity on this path is epsilon ', 1)\n",
      "('The min cost is ', 14)\n",
      "((1, 2), ' flow = ', 4)\n",
      "((6, 8), ' flow = ', 1)\n",
      "((5, 6), ' flow = ', 1)\n",
      "((5, 7), ' flow = ', 4)\n",
      "((1, 4), ' flow = ', 1)\n",
      "((2, 3), ' flow = ', 4)\n",
      "((4, 3), ' flow = ', 1)\n",
      "((7, 8), ' flow = ', 4)\n",
      "((7, 2), ' flow = ', 0)\n",
      "((3, 5), ' flow = ', 5)\n"
     ]
    }
   ],
   "source": [
    "Iterate(G)"
   ]
  },
  {
   "cell_type": "code",
   "execution_count": 43,
   "metadata": {},
   "outputs": [
    {
     "name": "stdout",
     "output_type": "stream",
     "text": [
      "('Incremental Network:', set([(3, 2), (6, 5), (6, 8), (5, 6), (4, 1), (4, 3), (5, 7), (1, 4), (7, 5), (2, 1), (8, 7), (8, 6), (3, 4), (7, 2), (5, 3)]))\n",
      "('Paths from source to sink: ', set([]))\n",
      "('Maximal flow found:', 5, ' with minimal cost ', 50)\n",
      "((1, 2), ' flow = ', 4)\n",
      "((6, 8), ' flow = ', 1)\n",
      "((5, 6), ' flow = ', 1)\n",
      "((5, 7), ' flow = ', 4)\n",
      "((1, 4), ' flow = ', 1)\n",
      "((2, 3), ' flow = ', 4)\n",
      "((4, 3), ' flow = ', 1)\n",
      "((7, 8), ' flow = ', 4)\n",
      "((7, 2), ' flow = ', 0)\n",
      "((3, 5), ' flow = ', 5)\n"
     ]
    }
   ],
   "source": [
    "Iterate(G)"
   ]
  },
  {
   "cell_type": "code",
   "execution_count": 44,
   "metadata": {},
   "outputs": [
    {
     "name": "stdout",
     "output_type": "stream",
     "text": [
      "('Incremental Network:', set([(3, 2), (6, 5), (6, 8), (5, 6), (4, 1), (4, 3), (5, 7), (1, 4), (7, 5), (2, 1), (8, 7), (8, 6), (3, 4), (7, 2), (5, 3)]))\n",
      "('Paths from source to sink: ', set([]))\n",
      "('Maximal flow found:', 5, ' with minimal cost ', 50)\n",
      "((1, 2), ' flow = ', 4)\n",
      "((6, 8), ' flow = ', 1)\n",
      "((5, 6), ' flow = ', 1)\n",
      "((5, 7), ' flow = ', 4)\n",
      "((1, 4), ' flow = ', 1)\n",
      "((2, 3), ' flow = ', 4)\n",
      "((4, 3), ' flow = ', 1)\n",
      "((7, 8), ' flow = ', 4)\n",
      "((7, 2), ' flow = ', 0)\n",
      "((3, 5), ' flow = ', 5)\n"
     ]
    }
   ],
   "source": [
    "Iterate(G)"
   ]
  },
  {
   "cell_type": "code",
   "execution_count": null,
   "metadata": {},
   "outputs": [],
   "source": [
    "#Question 3"
   ]
  },
  {
   "cell_type": "code",
   "execution_count": 89,
   "metadata": {},
   "outputs": [],
   "source": [
    "def Initialise20 (Gin):\n",
    "    global c,phi,l,cp,lp,Nsink\n",
    "    Nsink=1\n",
    "    for arc in Gin:\n",
    "        i,j=arc\n",
    "        Nsink=max(Nsink,i,j)\n",
    "    # for convenience c[i][j] is capacity of arc [i,j]\n",
    "    c=[[20 for i in range(Nsink+1)] for j in range(Nsink+1)]\n",
    "    phi=[[0 for i in range(Nsink+1)] for j in range(Nsink+1)]\n",
    "    l=[[0 for i in range(Nsink+1)] for j in range(Nsink+1)]\n",
    "    cp=[[0 for i in range(Nsink+1)] for j in range(Nsink+1)]\n",
    "    lp=[[0 for i in range(Nsink+1)] for j in range(Nsink+1)]\n",
    "    print(\"All values of phi and l initialised to zero, c to 20\")"
   ]
  },
  {
   "cell_type": "code",
   "execution_count": 90,
   "metadata": {},
   "outputs": [],
   "source": [
    "\n",
    "def Flows (Gin):\n",
    "    global Nsink,l,phi\n",
    "    Flowin=[0 for i in range(Nsink+1)]\n",
    "    Flowout=[0 for i in range(Nsink+1)]\n",
    "    for arc in Gin:\n",
    "        i,j=arc\n",
    "        Flowin[j] = Flowin[j] + phi[i][j]\n",
    "        Flowout[i] = Flowout[i] + phi[i][j]\n",
    "    for k in range(2,Nsink):\n",
    "        if Flowin[k] != Flowout[k]:\n",
    "            print(\"*** ERROR *** Flow not conserved at node\", k)\n",
    "    if Flowout[1] != Flowin[Nsink]:\n",
    "        print(\"*** ERROR *** Flow not conserved at source or sink\")\n",
    "    Totalcost = 0\n",
    "    for arc in G:\n",
    "        i,j=arc\n",
    "        phi_ij = phi[i][j]\n",
    "        Totalcost = Totalcost + l[i][j]*phi_ij\n",
    "        print(arc,\" has flow \",phi_ij)\n",
    "    print(\"Total Cost is \", Totalcost)"
   ]
  },
  {
   "cell_type": "code",
   "execution_count": 91,
   "metadata": {},
   "outputs": [],
   "source": [
    "def Links (Gin):\n",
    "    global Nsink,Out\n",
    "    Out=[set() for k in range(Nsink)] # labelled 0..Nsink-1\n",
    "    for arc in Gin:\n",
    "        i,j = arc\n",
    "        Out[i - 1] = Out[i - 1] | set([j])"
   ]
  },
  {
   "cell_type": "code",
   "execution_count": 92,
   "metadata": {},
   "outputs": [],
   "source": [
    "def SourceSink(Gin):\n",
    "# finds all paths SinkPaths from source 1 to sink Nsink of network G \n",
    "    global Nsink,SinkPaths\n",
    "    Links(Gin)\n",
    "    Paths = set() # current paths from source stored as set of tuples\n",
    "    SinkPaths = set() # paths from source to sink Nsink stored as set of tuples\n",
    "    path = 1 # source node label\n",
    "    for node in Out[0]:# need out edge from node 1\n",
    "        pathn = (path,node)\n",
    "        if node == Nsink:\n",
    "            SinkPaths = SinkPaths | set([pathn])\n",
    "        else:\n",
    "            Paths = Paths | set([pathn])\n",
    "    Npaths = len(Paths)\n",
    "    while (0 < Npaths):\n",
    "        NewPaths = set()\n",
    "        for oldpath in Paths:\n",
    "            nold = len(oldpath)\n",
    "            m = oldpath[-1] # last node in tuple oldpath\n",
    "            for mout in Out[m-1]:\n",
    "                if not mout in oldpath:\n",
    "                    if mout == Nsink:\n",
    "                        SinkPaths = SinkPaths | set([oldpath+tuple([Nsink])])\n",
    "                    else:\n",
    "                        NewPaths = NewPaths | set([oldpath+tuple([mout])])\n",
    "        Paths = NewPaths\n",
    "        Npaths = len(Paths)\n",
    "    print(\"Paths from source to sink: \",SinkPaths)"
   ]
  },
  {
   "cell_type": "code",
   "execution_count": 93,
   "metadata": {},
   "outputs": [],
   "source": [
    "def Newflows(Gin):\n",
    "# A procedure to modify original flows on Gin along SinkPaths of Gp with minimal cost\n",
    "    global Gp,phi,c,l,cp,lp,ArcSign,Out\n",
    "    SourceSink(Gp)\n",
    "    if SinkPaths == set():\n",
    "        Links(Gin)\n",
    "        Flow = 0\n",
    "        for node in Out[0]:\n",
    "            Flow = Flow + phi[1][node]\n",
    "        Cost=0\n",
    "        for arc in Gin:\n",
    "            i,j=arc\n",
    "            Cost=Cost+l[i][j]*phi[i][j]\n",
    "        print(\"Maximal flow found:\", Flow, \" with minimal cost \", Cost)\n",
    "    else:\n",
    "        for k in range(len(SinkPaths)):\n",
    "            cost = 0\n",
    "            epset = set()\n",
    "            path=list(SinkPaths)[k]\n",
    "            for n in range(0, len(path)-1):\n",
    "                i = path[n]; j = path[n+1];  epset = epset | set([cp[i][j]]); cost = lp[i][j] + cost\n",
    "            eps = min(tuple(epset))\n",
    "            if k == 0: # first path\n",
    "                mincost = cost; bestpath = path; besteps = eps\n",
    "            elif cost < mincost: \n",
    "                mincost = cost; bestpath = path; besteps = eps\n",
    "        print(\"A best path in Gp is \", bestpath, \" of minimum cost \", mincost)\n",
    "        print(\"The min capacity on this path is epsilon \", eps)\n",
    "        print(\"The min cost is \", mincost)\n",
    "        for k in range(0, len(bestpath) - 1):\n",
    "            i = bestpath[k]; j = bestpath[k+1]\n",
    "            if ArcSign[i][j] == 1:\n",
    "                phinewij = phi[i][j] + besteps; phi[i][j]=phinewij\n",
    "            else:\n",
    "                phinewji=phi[j][i] = phi[j][i] - besteps; phi[j][i]=phinewji\n",
    "    #print(\"Flow=\",Flow)"
   ]
  },
  {
   "cell_type": "code",
   "execution_count": 94,
   "metadata": {},
   "outputs": [],
   "source": [
    "def Iterate(Gin):\n",
    "    IncremNet(Gin)\n",
    "    Newflows(Gin)\n",
    "    for arc in Gin:\n",
    "        i,j=arc\n",
    "        print((i,j),\" flow = \", phi[i][j])"
   ]
  },
  {
   "cell_type": "code",
   "execution_count": 95,
   "metadata": {},
   "outputs": [],
   "source": [
    "def IncremNet(Gin):\n",
    "# procedure to create incremental network Gp from given flow network G \n",
    "    global Gp,Nsink,phi,c,l,cp,lp,ArcSign\n",
    "# define lists for ArcSign, cp and lp  (indexed by 0..Nsink-1)\n",
    "    cp=[[0 for i in range(Nsink+1)] for j in range(Nsink+1)]\n",
    "    lp=[[0 for i in range(Nsink+1)] for j in range(Nsink+1)]\n",
    "    ArcSign=[[0 for i in range(Nsink+1)] for j in range(Nsink+1)]\n",
    "    Gp=set([])\n",
    "    for arc in Gin:\n",
    "        i,j=arc\n",
    "        pij = phi[i][j]; pji = phi[j][i]; cij = c[i][j]; lij = l[i][j]\n",
    "        if (pij < cij and (pji == 0 or not (j,i) in Gin)): # ij arc\n",
    "            #Gp edges, capacitites and costs added\n",
    "            cpij = cij - pij; cp[i][j] = cpij; lpij = lij; lp[i][j] =lpij\n",
    "            ArcSign[i][j] = 1\n",
    "            Gp=Gp | {(i,j)}\n",
    "        if pij>0: # ji arc\n",
    "            cpji = pij; cp[j][i] = cpji; lpji=-lij; lp[j][i] = lpji\n",
    "            ArcSign[j][i] = -1\n",
    "            Gp=Gp | {(j,i)}\n",
    "    print(\"Incremental Network:\",Gp)"
   ]
  },
  {
   "cell_type": "code",
   "execution_count": 96,
   "metadata": {},
   "outputs": [],
   "source": [
    "G={(1,2),(1,3),(1,4),(1,5),(1,6),(1,7),(1,8),(1,9),(1,10),(1,11),(1,12),(1,13),(2,14),(3,15),\n",
    "(4,16),(5,17),(6,18),(7,19),(8,20),(9,21),(10,22),(11,23),(12,24),(13,25),(14,3),(15,4),(16,5),\n",
    "(17,6),(18,7),(19,8),(20,9),(21,10),(22,11),(23,12),(24,13),(14,26),(15,26),(16,26),\n",
    "(17,26),(18,26),(19,26),(20,26),(21,26),(22,26),(23,26),(24,26),(25,26)}"
   ]
  },
  {
   "cell_type": "code",
   "execution_count": 97,
   "metadata": {},
   "outputs": [
    {
     "name": "stdout",
     "output_type": "stream",
     "text": [
      "All values of c,phi and l initialised to zero\n"
     ]
    }
   ],
   "source": [
    "Initialise(G)"
   ]
  },
  {
   "cell_type": "code",
   "execution_count": 98,
   "metadata": {},
   "outputs": [],
   "source": [
    "c[1][2]=20; c[1][3]=20; c[1][4]=20; c[1][5]=20; c[1][6]=20; c[1][7]=20; c[1][8]=20; c[1][9]=20\n",
    "c[1][10]=20; c[1][11]=20; c[1][12]=20; c[1][13]=20; c[2][14]=20; c[3][15]=20; c[4][16]=20; c[5][17]=20\n",
    "c[6][18]=20; c[7][19]=20; c[8][20]=20; c[9][21]=20; c[10][22]=20; c[11][23]=20; c[12][24]=20; c[13][25]=20\n",
    "c[14][3]=20; c[15][4]=20; c[16][5]=20; c[17][6]=20; c[18][7]=20; c[19][8]; c[20][9]=20; c[21][10]=20\n",
    "c[22][11]=20; c[23][12]=20; c[24][13]=20; c[14][26]=9; c[15][26]=6; c[16][26]=6; c[17][26]=7\n",
    "c[18][26]=11; c[19][26]=14; c[20][26]=16; c[21][26]=18; c[22][26]=15; c[23][26]=10; c[24][26]=7; c[25][26]=6"
   ]
  },
  {
   "cell_type": "code",
   "execution_count": 99,
   "metadata": {},
   "outputs": [],
   "source": [
    "l[1][2]=18; l[1][3]=17; l[1][4]=17; l[1][5]=15; l[1][6]=12; l[1][7]=8; l[1][8]= 7; l[1][9]=6\n",
    "l[1][10]=9; l[1][11]=12; l[1][12]= 14; l[1][13]=17; l[2][14]=1; l[3][15]=1; l[4][16]=2; l[16][5]=2; l[5][17]=2\n",
    "l[6][18]=3; l[7][19]=5; l[8][20]=6; l[9][21]=6; l[10][22]=5; l[11][23]=3; l[12][24]=2; l[13][25]=1\n",
    "l[14][3]=1; l[15][4]=1; l[16][5]=2; l[17][6]=2; l[18][7]=3; l[19][8]=5; l[20][9]=6; l[21][10]=6\n",
    "l[22][11]=5; l[23][12]=3; l[24][13]=2; l[14][26]=0; l[15][26]=0; l[16][26]=0; l[17][26]=0\n",
    "l[18][26]=0; l[19][26]=0; l[20][26]=0; l[21][26]=0; l[22][26]=0; l[23][26]=0; l[24][26]=0; l[25][26]=0"
   ]
  },
  {
   "cell_type": "code",
   "execution_count": 100,
   "metadata": {},
   "outputs": [
    {
     "name": "stdout",
     "output_type": "stream",
     "text": [
      "((19, 8), ' has flow ', 0)\n",
      "((3, 15), ' has flow ', 0)\n",
      "((1, 3), ' has flow ', 0)\n",
      "((19, 26), ' has flow ', 0)\n",
      "((22, 26), ' has flow ', 0)\n",
      "((24, 26), ' has flow ', 0)\n",
      "((18, 26), ' has flow ', 0)\n",
      "((11, 23), ' has flow ', 0)\n",
      "((14, 26), ' has flow ', 0)\n",
      "((1, 6), ' has flow ', 0)\n",
      "((23, 26), ' has flow ', 0)\n",
      "((23, 12), ' has flow ', 0)\n",
      "((17, 26), ' has flow ', 0)\n",
      "((1, 11), ' has flow ', 0)\n",
      "((13, 25), ' has flow ', 0)\n",
      "((15, 26), ' has flow ', 0)\n",
      "((1, 2), ' has flow ', 0)\n",
      "((20, 26), ' has flow ', 0)\n",
      "((17, 6), ' has flow ', 0)\n",
      "((1, 5), ' has flow ', 0)\n",
      "((9, 21), ' has flow ', 0)\n",
      "((8, 20), ' has flow ', 0)\n",
      "((25, 26), ' has flow ', 0)\n",
      "((7, 19), ' has flow ', 0)\n",
      "((20, 9), ' has flow ', 0)\n",
      "((5, 17), ' has flow ', 0)\n",
      "((1, 10), ' has flow ', 0)\n",
      "((10, 22), ' has flow ', 0)\n",
      "((6, 18), ' has flow ', 0)\n",
      "((21, 26), ' has flow ', 0)\n",
      "((1, 13), ' has flow ', 0)\n",
      "((1, 4), ' has flow ', 0)\n",
      "((4, 16), ' has flow ', 0)\n",
      "((15, 4), ' has flow ', 0)\n",
      "((1, 9), ' has flow ', 0)\n",
      "((22, 11), ' has flow ', 0)\n",
      "((2, 14), ' has flow ', 0)\n",
      "((16, 5), ' has flow ', 0)\n",
      "((1, 12), ' has flow ', 0)\n",
      "((18, 7), ' has flow ', 0)\n",
      "((1, 8), ' has flow ', 0)\n",
      "((21, 10), ' has flow ', 0)\n",
      "((1, 7), ' has flow ', 0)\n",
      "((14, 3), ' has flow ', 0)\n",
      "((24, 13), ' has flow ', 0)\n",
      "((12, 24), ' has flow ', 0)\n",
      "((16, 26), ' has flow ', 0)\n",
      "('Total Cost is ', 0)\n"
     ]
    }
   ],
   "source": [
    "Flows(G)"
   ]
  },
  {
   "cell_type": "code",
   "execution_count": 101,
   "metadata": {},
   "outputs": [
    {
     "name": "stdout",
     "output_type": "stream",
     "text": [
      "('Incremental Network:', set([(3, 15), (1, 3), (19, 26), (22, 26), (24, 26), (18, 26), (11, 23), (14, 26), (1, 6), (23, 26), (23, 12), (17, 26), (1, 11), (15, 26), (1, 2), (20, 26), (17, 6), (1, 5), (13, 25), (8, 20), (25, 26), (7, 19), (20, 9), (5, 17), (1, 10), (10, 22), (6, 18), (21, 26), (1, 13), (1, 7), (1, 4), (4, 16), (15, 4), (1, 9), (22, 11), (2, 14), (16, 5), (1, 12), (18, 7), (1, 8), (21, 10), (9, 21), (14, 3), (24, 13), (12, 24), (16, 26)]))\n",
      "('Paths from source to sink: ', set([(1, 11, 23, 12, 24, 13, 25, 26), (1, 11, 23, 26), (1, 2, 14, 3, 15, 4, 16, 26), (1, 3, 15, 4, 16, 5, 17, 26), (1, 3, 15, 4, 16, 5, 17, 6, 18, 7, 19, 26), (1, 4, 16, 5, 17, 6, 18, 26), (1, 6, 18, 26), (1, 4, 16, 26), (1, 5, 17, 6, 18, 7, 19, 26), (1, 2, 14, 26), (1, 12, 24, 13, 25, 26), (1, 9, 21, 10, 22, 11, 23, 26), (1, 9, 21, 10, 22, 11, 23, 12, 24, 26), (1, 10, 22, 26), (1, 2, 14, 3, 15, 4, 16, 5, 17, 6, 18, 26), (1, 8, 20, 26), (1, 3, 15, 4, 16, 26), (1, 7, 19, 26), (1, 10, 22, 11, 23, 12, 24, 13, 25, 26), (1, 3, 15, 26), (1, 8, 20, 9, 21, 10, 22, 11, 23, 12, 24, 26), (1, 9, 21, 10, 22, 11, 23, 12, 24, 13, 25, 26), (1, 9, 21, 10, 22, 26), (1, 2, 14, 3, 15, 4, 16, 5, 17, 26), (1, 8, 20, 9, 21, 10, 22, 11, 23, 26), (1, 6, 18, 7, 19, 26), (1, 9, 21, 26), (1, 11, 23, 12, 24, 26), (1, 12, 24, 26), (1, 5, 17, 26), (1, 8, 20, 9, 21, 26), (1, 3, 15, 4, 16, 5, 17, 6, 18, 26), (1, 8, 20, 9, 21, 10, 22, 11, 23, 12, 24, 13, 25, 26), (1, 8, 20, 9, 21, 10, 22, 26), (1, 2, 14, 3, 15, 26), (1, 2, 14, 3, 15, 4, 16, 5, 17, 6, 18, 7, 19, 26), (1, 10, 22, 11, 23, 26), (1, 10, 22, 11, 23, 12, 24, 26), (1, 4, 16, 5, 17, 26), (1, 4, 16, 5, 17, 6, 18, 7, 19, 26), (1, 13, 25, 26), (1, 5, 17, 6, 18, 26)]))\n",
      "('A best path in Gp is ', (1, 9, 21, 26), ' of minimum cost ', 12)\n",
      "('The min capacity on this path is epsilon ', 11)\n",
      "('The min cost is ', 12)\n",
      "((19, 8), ' flow = ', 0)\n",
      "((3, 15), ' flow = ', 0)\n",
      "((1, 3), ' flow = ', 0)\n",
      "((19, 26), ' flow = ', 0)\n",
      "((22, 26), ' flow = ', 0)\n",
      "((24, 26), ' flow = ', 0)\n",
      "((18, 26), ' flow = ', 0)\n",
      "((11, 23), ' flow = ', 0)\n",
      "((14, 26), ' flow = ', 0)\n",
      "((1, 6), ' flow = ', 0)\n",
      "((23, 26), ' flow = ', 0)\n",
      "((23, 12), ' flow = ', 0)\n",
      "((17, 26), ' flow = ', 0)\n",
      "((1, 11), ' flow = ', 0)\n",
      "((13, 25), ' flow = ', 0)\n",
      "((15, 26), ' flow = ', 0)\n",
      "((1, 2), ' flow = ', 0)\n",
      "((20, 26), ' flow = ', 0)\n",
      "((17, 6), ' flow = ', 0)\n",
      "((1, 5), ' flow = ', 0)\n",
      "((9, 21), ' flow = ', 18)\n",
      "((8, 20), ' flow = ', 0)\n",
      "((25, 26), ' flow = ', 0)\n",
      "((7, 19), ' flow = ', 0)\n",
      "((20, 9), ' flow = ', 0)\n",
      "((5, 17), ' flow = ', 0)\n",
      "((1, 10), ' flow = ', 0)\n",
      "((10, 22), ' flow = ', 0)\n",
      "((6, 18), ' flow = ', 0)\n",
      "((21, 26), ' flow = ', 18)\n",
      "((1, 13), ' flow = ', 0)\n",
      "((1, 4), ' flow = ', 0)\n",
      "((4, 16), ' flow = ', 0)\n",
      "((15, 4), ' flow = ', 0)\n",
      "((1, 9), ' flow = ', 18)\n",
      "((22, 11), ' flow = ', 0)\n",
      "((2, 14), ' flow = ', 0)\n",
      "((16, 5), ' flow = ', 0)\n",
      "((1, 12), ' flow = ', 0)\n",
      "((18, 7), ' flow = ', 0)\n",
      "((1, 8), ' flow = ', 0)\n",
      "((21, 10), ' flow = ', 0)\n",
      "((1, 7), ' flow = ', 0)\n",
      "((14, 3), ' flow = ', 0)\n",
      "((24, 13), ' flow = ', 0)\n",
      "((12, 24), ' flow = ', 0)\n",
      "((16, 26), ' flow = ', 0)\n"
     ]
    }
   ],
   "source": [
    "Iterate(G)"
   ]
  },
  {
   "cell_type": "code",
   "execution_count": 102,
   "metadata": {},
   "outputs": [
    {
     "name": "stdout",
     "output_type": "stream",
     "text": [
      "('Incremental Network:', set([(3, 15), (1, 3), (9, 1), (19, 26), (22, 26), (24, 26), (18, 26), (11, 23), (14, 26), (1, 6), (23, 26), (23, 12), (17, 26), (1, 11), (15, 26), (1, 2), (20, 26), (17, 6), (1, 5), (13, 25), (8, 20), (25, 26), (7, 19), (20, 9), (5, 17), (1, 10), (10, 22), (26, 21), (6, 18), (1, 13), (1, 7), (1, 4), (4, 16), (15, 4), (1, 9), (22, 11), (2, 14), (16, 5), (1, 12), (21, 9), (18, 7), (1, 8), (21, 10), (9, 21), (14, 3), (24, 13), (12, 24), (16, 26)]))\n",
      "('Paths from source to sink: ', set([(1, 11, 23, 12, 24, 13, 25, 26), (1, 11, 23, 26), (1, 2, 14, 3, 15, 4, 16, 26), (1, 3, 15, 4, 16, 5, 17, 26), (1, 3, 15, 4, 16, 5, 17, 6, 18, 7, 19, 26), (1, 4, 16, 5, 17, 6, 18, 26), (1, 6, 18, 26), (1, 12, 24, 26), (1, 5, 17, 6, 18, 7, 19, 26), (1, 2, 14, 26), (1, 12, 24, 13, 25, 26), (1, 9, 21, 10, 22, 11, 23, 26), (1, 9, 21, 10, 22, 11, 23, 12, 24, 26), (1, 10, 22, 11, 23, 26), (1, 2, 14, 3, 15, 4, 16, 5, 17, 6, 18, 26), (1, 8, 20, 26), (1, 3, 15, 4, 16, 26), (1, 7, 19, 26), (1, 10, 22, 11, 23, 12, 24, 13, 25, 26), (1, 3, 15, 26), (1, 8, 20, 9, 21, 10, 22, 11, 23, 12, 24, 26), (1, 9, 21, 10, 22, 11, 23, 12, 24, 13, 25, 26), (1, 9, 21, 10, 22, 26), (1, 2, 14, 3, 15, 4, 16, 5, 17, 26), (1, 8, 20, 9, 21, 10, 22, 11, 23, 26), (1, 6, 18, 7, 19, 26), (1, 2, 14, 3, 15, 26), (1, 11, 23, 12, 24, 26), (1, 4, 16, 26), (1, 5, 17, 26), (1, 3, 15, 4, 16, 5, 17, 6, 18, 26), (1, 8, 20, 9, 21, 10, 22, 11, 23, 12, 24, 13, 25, 26), (1, 8, 20, 9, 21, 10, 22, 26), (1, 2, 14, 3, 15, 4, 16, 5, 17, 6, 18, 7, 19, 26), (1, 10, 22, 26), (1, 10, 22, 11, 23, 12, 24, 26), (1, 4, 16, 5, 17, 26), (1, 4, 16, 5, 17, 6, 18, 7, 19, 26), (1, 13, 25, 26), (1, 5, 17, 6, 18, 26)]))\n",
      "('A best path in Gp is ', (1, 8, 20, 26), ' of minimum cost ', 13)\n",
      "('The min capacity on this path is epsilon ', 11)\n",
      "('The min cost is ', 13)\n",
      "((19, 8), ' flow = ', 0)\n",
      "((3, 15), ' flow = ', 0)\n",
      "((1, 3), ' flow = ', 0)\n",
      "((19, 26), ' flow = ', 0)\n",
      "((22, 26), ' flow = ', 0)\n",
      "((24, 26), ' flow = ', 0)\n",
      "((18, 26), ' flow = ', 0)\n",
      "((11, 23), ' flow = ', 0)\n",
      "((14, 26), ' flow = ', 0)\n",
      "((1, 6), ' flow = ', 0)\n",
      "((23, 26), ' flow = ', 0)\n",
      "((23, 12), ' flow = ', 0)\n",
      "((17, 26), ' flow = ', 0)\n",
      "((1, 11), ' flow = ', 0)\n",
      "((13, 25), ' flow = ', 0)\n",
      "((15, 26), ' flow = ', 0)\n",
      "((1, 2), ' flow = ', 0)\n",
      "((20, 26), ' flow = ', 16)\n",
      "((17, 6), ' flow = ', 0)\n",
      "((1, 5), ' flow = ', 0)\n",
      "((9, 21), ' flow = ', 18)\n",
      "((8, 20), ' flow = ', 16)\n",
      "((25, 26), ' flow = ', 0)\n",
      "((7, 19), ' flow = ', 0)\n",
      "((20, 9), ' flow = ', 0)\n",
      "((5, 17), ' flow = ', 0)\n",
      "((1, 10), ' flow = ', 0)\n",
      "((10, 22), ' flow = ', 0)\n",
      "((6, 18), ' flow = ', 0)\n",
      "((21, 26), ' flow = ', 18)\n",
      "((1, 13), ' flow = ', 0)\n",
      "((1, 4), ' flow = ', 0)\n",
      "((4, 16), ' flow = ', 0)\n",
      "((15, 4), ' flow = ', 0)\n",
      "((1, 9), ' flow = ', 18)\n",
      "((22, 11), ' flow = ', 0)\n",
      "((2, 14), ' flow = ', 0)\n",
      "((16, 5), ' flow = ', 0)\n",
      "((1, 12), ' flow = ', 0)\n",
      "((18, 7), ' flow = ', 0)\n",
      "((1, 8), ' flow = ', 16)\n",
      "((21, 10), ' flow = ', 0)\n",
      "((1, 7), ' flow = ', 0)\n",
      "((14, 3), ' flow = ', 0)\n",
      "((24, 13), ' flow = ', 0)\n",
      "((12, 24), ' flow = ', 0)\n",
      "((16, 26), ' flow = ', 0)\n"
     ]
    }
   ],
   "source": [
    "Iterate(G)"
   ]
  },
  {
   "cell_type": "code",
   "execution_count": 103,
   "metadata": {},
   "outputs": [
    {
     "name": "stdout",
     "output_type": "stream",
     "text": [
      "('Incremental Network:', set([(3, 15), (1, 3), (9, 1), (19, 26), (22, 26), (24, 26), (18, 26), (11, 23), (14, 26), (1, 6), (23, 26), (20, 8), (23, 12), (17, 26), (1, 11), (15, 26), (1, 2), (17, 6), (26, 20), (1, 5), (8, 1), (13, 25), (8, 20), (25, 26), (7, 19), (20, 9), (5, 17), (1, 10), (10, 22), (26, 21), (6, 18), (1, 13), (1, 7), (1, 4), (4, 16), (15, 4), (1, 9), (22, 11), (2, 14), (16, 5), (1, 12), (21, 9), (18, 7), (1, 8), (21, 10), (9, 21), (14, 3), (24, 13), (12, 24), (16, 26)]))\n",
      "('Paths from source to sink: ', set([(1, 11, 23, 12, 24, 13, 25, 26), (1, 11, 23, 26), (1, 2, 14, 3, 15, 4, 16, 26), (1, 3, 15, 4, 16, 5, 17, 26), (1, 3, 15, 4, 16, 5, 17, 6, 18, 7, 19, 26), (1, 4, 16, 5, 17, 6, 18, 26), (1, 6, 18, 26), (1, 4, 16, 26), (1, 5, 17, 6, 18, 7, 19, 26), (1, 6, 18, 7, 19, 26), (1, 12, 24, 13, 25, 26), (1, 9, 21, 10, 22, 11, 23, 26), (1, 9, 21, 10, 22, 11, 23, 12, 24, 26), (1, 10, 22, 26), (1, 2, 14, 3, 15, 4, 16, 5, 17, 6, 18, 26), (1, 3, 15, 4, 16, 26), (1, 7, 19, 26), (1, 10, 22, 11, 23, 12, 24, 13, 25, 26), (1, 3, 15, 26), (1, 8, 20, 9, 21, 10, 22, 11, 23, 12, 24, 26), (1, 9, 21, 10, 22, 11, 23, 12, 24, 13, 25, 26), (1, 9, 21, 10, 22, 26), (1, 2, 14, 3, 15, 4, 16, 5, 17, 26), (1, 8, 20, 9, 21, 10, 22, 11, 23, 26), (1, 2, 14, 26), (1, 2, 14, 3, 15, 26), (1, 11, 23, 12, 24, 26), (1, 12, 24, 26), (1, 13, 25, 26), (1, 3, 15, 4, 16, 5, 17, 6, 18, 26), (1, 8, 20, 9, 21, 10, 22, 11, 23, 12, 24, 13, 25, 26), (1, 8, 20, 9, 21, 10, 22, 26), (1, 2, 14, 3, 15, 4, 16, 5, 17, 6, 18, 7, 19, 26), (1, 10, 22, 11, 23, 26), (1, 10, 22, 11, 23, 12, 24, 26), (1, 4, 16, 5, 17, 26), (1, 4, 16, 5, 17, 6, 18, 7, 19, 26), (1, 5, 17, 26), (1, 5, 17, 6, 18, 26)]))\n",
      "('A best path in Gp is ', (1, 7, 19, 26), ' of minimum cost ', 13)\n",
      "('The min capacity on this path is epsilon ', 11)\n",
      "('The min cost is ', 13)\n",
      "((19, 8), ' flow = ', 0)\n",
      "((3, 15), ' flow = ', 0)\n",
      "((1, 3), ' flow = ', 0)\n",
      "((19, 26), ' flow = ', 14)\n",
      "((22, 26), ' flow = ', 0)\n",
      "((24, 26), ' flow = ', 0)\n",
      "((18, 26), ' flow = ', 0)\n",
      "((11, 23), ' flow = ', 0)\n",
      "((14, 26), ' flow = ', 0)\n",
      "((1, 6), ' flow = ', 0)\n",
      "((23, 26), ' flow = ', 0)\n",
      "((23, 12), ' flow = ', 0)\n",
      "((17, 26), ' flow = ', 0)\n",
      "((1, 11), ' flow = ', 0)\n",
      "((13, 25), ' flow = ', 0)\n",
      "((15, 26), ' flow = ', 0)\n",
      "((1, 2), ' flow = ', 0)\n",
      "((20, 26), ' flow = ', 16)\n",
      "((17, 6), ' flow = ', 0)\n",
      "((1, 5), ' flow = ', 0)\n",
      "((9, 21), ' flow = ', 18)\n",
      "((8, 20), ' flow = ', 16)\n",
      "((25, 26), ' flow = ', 0)\n",
      "((7, 19), ' flow = ', 14)\n",
      "((20, 9), ' flow = ', 0)\n",
      "((5, 17), ' flow = ', 0)\n",
      "((1, 10), ' flow = ', 0)\n",
      "((10, 22), ' flow = ', 0)\n",
      "((6, 18), ' flow = ', 0)\n",
      "((21, 26), ' flow = ', 18)\n",
      "((1, 13), ' flow = ', 0)\n",
      "((1, 4), ' flow = ', 0)\n",
      "((4, 16), ' flow = ', 0)\n",
      "((15, 4), ' flow = ', 0)\n",
      "((1, 9), ' flow = ', 18)\n",
      "((22, 11), ' flow = ', 0)\n",
      "((2, 14), ' flow = ', 0)\n",
      "((16, 5), ' flow = ', 0)\n",
      "((1, 12), ' flow = ', 0)\n",
      "((18, 7), ' flow = ', 0)\n",
      "((1, 8), ' flow = ', 16)\n",
      "((21, 10), ' flow = ', 0)\n",
      "((1, 7), ' flow = ', 14)\n",
      "((14, 3), ' flow = ', 0)\n",
      "((24, 13), ' flow = ', 0)\n",
      "((12, 24), ' flow = ', 0)\n",
      "((16, 26), ' flow = ', 0)\n"
     ]
    }
   ],
   "source": [
    "Iterate(G)"
   ]
  },
  {
   "cell_type": "code",
   "execution_count": 104,
   "metadata": {},
   "outputs": [
    {
     "name": "stdout",
     "output_type": "stream",
     "text": [
      "('Incremental Network:', set([(3, 15), (1, 3), (9, 1), (22, 26), (24, 26), (18, 26), (11, 23), (14, 26), (1, 6), (23, 26), (20, 8), (23, 12), (17, 26), (1, 11), (15, 26), (1, 2), (17, 6), (26, 20), (1, 5), (8, 1), (13, 25), (8, 20), (25, 26), (7, 19), (20, 9), (5, 17), (1, 10), (10, 22), (26, 21), (6, 18), (7, 1), (1, 13), (1, 7), (1, 4), (4, 16), (15, 4), (1, 9), (22, 11), (2, 14), (16, 5), (1, 12), (21, 9), (18, 7), (1, 8), (21, 10), (9, 21), (19, 7), (14, 3), (24, 13), (26, 19), (12, 24), (16, 26)]))\n",
      "('Paths from source to sink: ', set([(1, 11, 23, 12, 24, 26), (1, 11, 23, 26), (1, 2, 14, 3, 15, 4, 16, 26), (1, 2, 14, 3, 15, 4, 16, 5, 17, 6, 18, 26), (1, 4, 16, 5, 17, 6, 18, 26), (1, 6, 18, 26), (1, 4, 16, 26), (1, 2, 14, 26), (1, 9, 21, 10, 22, 11, 23, 12, 24, 13, 25, 26), (1, 9, 21, 10, 22, 11, 23, 26), (1, 9, 21, 10, 22, 11, 23, 12, 24, 26), (1, 10, 22, 26), (1, 3, 15, 4, 16, 5, 17, 26), (1, 10, 22, 11, 23, 12, 24, 26), (1, 10, 22, 11, 23, 12, 24, 13, 25, 26), (1, 3, 15, 26), (1, 8, 20, 9, 21, 10, 22, 11, 23, 12, 24, 26), (1, 12, 24, 13, 25, 26), (1, 8, 20, 9, 21, 10, 22, 11, 23, 26), (1, 2, 14, 3, 15, 4, 16, 5, 17, 26), (1, 2, 14, 3, 15, 26), (1, 3, 15, 4, 16, 5, 17, 6, 18, 26), (1, 12, 24, 26), (1, 13, 25, 26), (1, 8, 20, 9, 21, 10, 22, 11, 23, 12, 24, 13, 25, 26), (1, 8, 20, 9, 21, 10, 22, 26), (1, 11, 23, 12, 24, 13, 25, 26), (1, 10, 22, 11, 23, 26), (1, 3, 15, 4, 16, 26), (1, 4, 16, 5, 17, 26), (1, 9, 21, 10, 22, 26), (1, 5, 17, 26), (1, 5, 17, 6, 18, 26)]))\n",
      "('A best path in Gp is ', (1, 10, 22, 26), ' of minimum cost ', 14)\n",
      "('The min capacity on this path is epsilon ', 11)\n",
      "('The min cost is ', 14)\n",
      "((19, 8), ' flow = ', 0)\n",
      "((3, 15), ' flow = ', 0)\n",
      "((1, 3), ' flow = ', 0)\n",
      "((19, 26), ' flow = ', 14)\n",
      "((22, 26), ' flow = ', 15)\n",
      "((24, 26), ' flow = ', 0)\n",
      "((18, 26), ' flow = ', 0)\n",
      "((11, 23), ' flow = ', 0)\n",
      "((14, 26), ' flow = ', 0)\n",
      "((1, 6), ' flow = ', 0)\n",
      "((23, 26), ' flow = ', 0)\n",
      "((23, 12), ' flow = ', 0)\n",
      "((17, 26), ' flow = ', 0)\n",
      "((1, 11), ' flow = ', 0)\n",
      "((13, 25), ' flow = ', 0)\n",
      "((15, 26), ' flow = ', 0)\n",
      "((1, 2), ' flow = ', 0)\n",
      "((20, 26), ' flow = ', 16)\n",
      "((17, 6), ' flow = ', 0)\n",
      "((1, 5), ' flow = ', 0)\n",
      "((9, 21), ' flow = ', 18)\n",
      "((8, 20), ' flow = ', 16)\n",
      "((25, 26), ' flow = ', 0)\n",
      "((7, 19), ' flow = ', 14)\n",
      "((20, 9), ' flow = ', 0)\n",
      "((5, 17), ' flow = ', 0)\n",
      "((1, 10), ' flow = ', 15)\n",
      "((10, 22), ' flow = ', 15)\n",
      "((6, 18), ' flow = ', 0)\n",
      "((21, 26), ' flow = ', 18)\n",
      "((1, 13), ' flow = ', 0)\n",
      "((1, 4), ' flow = ', 0)\n",
      "((4, 16), ' flow = ', 0)\n",
      "((15, 4), ' flow = ', 0)\n",
      "((1, 9), ' flow = ', 18)\n",
      "((22, 11), ' flow = ', 0)\n",
      "((2, 14), ' flow = ', 0)\n",
      "((16, 5), ' flow = ', 0)\n",
      "((1, 12), ' flow = ', 0)\n",
      "((18, 7), ' flow = ', 0)\n",
      "((1, 8), ' flow = ', 16)\n",
      "((21, 10), ' flow = ', 0)\n",
      "((1, 7), ' flow = ', 14)\n",
      "((14, 3), ' flow = ', 0)\n",
      "((24, 13), ' flow = ', 0)\n",
      "((12, 24), ' flow = ', 0)\n",
      "((16, 26), ' flow = ', 0)\n"
     ]
    }
   ],
   "source": [
    "Iterate(G)"
   ]
  },
  {
   "cell_type": "code",
   "execution_count": 105,
   "metadata": {},
   "outputs": [
    {
     "name": "stdout",
     "output_type": "stream",
     "text": [
      "('Incremental Network:', set([(3, 15), (1, 3), (9, 1), (24, 26), (18, 26), (11, 23), (14, 26), (1, 6), (23, 26), (20, 8), (23, 12), (17, 26), (1, 11), (15, 26), (1, 2), (17, 6), (26, 20), (1, 5), (8, 1), (13, 25), (8, 20), (25, 26), (7, 19), (20, 9), (5, 17), (1, 10), (22, 10), (26, 21), (6, 18), (7, 1), (1, 13), (1, 7), (1, 4), (4, 16), (15, 4), (1, 9), (10, 1), (22, 11), (2, 14), (10, 22), (16, 5), (1, 12), (21, 9), (26, 22), (18, 7), (1, 8), (21, 10), (9, 21), (19, 7), (14, 3), (24, 13), (26, 19), (12, 24), (16, 26)]))\n",
      "('Paths from source to sink: ', set([(1, 5, 17, 6, 18, 26), (1, 3, 15, 26), (1, 8, 20, 9, 21, 10, 22, 11, 23, 12, 24, 26), (1, 12, 24, 13, 25, 26), (1, 8, 20, 9, 21, 10, 22, 11, 23, 26), (1, 2, 14, 3, 15, 4, 16, 5, 17, 26), (1, 8, 20, 9, 21, 10, 22, 11, 23, 12, 24, 13, 25, 26), (1, 2, 14, 3, 15, 26), (1, 2, 14, 3, 15, 4, 16, 26), (1, 3, 15, 4, 16, 5, 17, 26), (1, 4, 16, 5, 17, 6, 18, 26), (1, 6, 18, 26), (1, 4, 16, 26), (1, 3, 15, 4, 16, 26), (1, 3, 15, 4, 16, 5, 17, 6, 18, 26), (1, 2, 14, 26), (1, 9, 21, 10, 22, 11, 23, 12, 24, 13, 25, 26), (1, 9, 21, 10, 22, 11, 23, 26), (1, 5, 17, 26), (1, 9, 21, 10, 22, 11, 23, 12, 24, 26), (1, 11, 23, 26), (1, 11, 23, 12, 24, 13, 25, 26), (1, 10, 22, 11, 23, 26), (1, 10, 22, 11, 23, 12, 24, 26), (1, 4, 16, 5, 17, 26), (1, 2, 14, 3, 15, 4, 16, 5, 17, 6, 18, 26), (1, 12, 24, 26), (1, 11, 23, 12, 24, 26), (1, 13, 25, 26), (1, 10, 22, 11, 23, 12, 24, 13, 25, 26)]))\n",
      "('A best path in Gp is ', (1, 6, 18, 26), ' of minimum cost ', 15)\n",
      "('The min capacity on this path is epsilon ', 5)\n",
      "('The min cost is ', 15)\n",
      "((19, 8), ' flow = ', 0)\n",
      "((3, 15), ' flow = ', 0)\n",
      "((1, 3), ' flow = ', 0)\n",
      "((19, 26), ' flow = ', 14)\n",
      "((22, 26), ' flow = ', 15)\n",
      "((24, 26), ' flow = ', 0)\n",
      "((18, 26), ' flow = ', 11)\n",
      "((11, 23), ' flow = ', 0)\n",
      "((14, 26), ' flow = ', 0)\n",
      "((1, 6), ' flow = ', 11)\n",
      "((23, 26), ' flow = ', 0)\n",
      "((23, 12), ' flow = ', 0)\n",
      "((17, 26), ' flow = ', 0)\n",
      "((1, 11), ' flow = ', 0)\n",
      "((13, 25), ' flow = ', 0)\n",
      "((15, 26), ' flow = ', 0)\n",
      "((1, 2), ' flow = ', 0)\n",
      "((20, 26), ' flow = ', 16)\n",
      "((17, 6), ' flow = ', 0)\n",
      "((1, 5), ' flow = ', 0)\n",
      "((9, 21), ' flow = ', 18)\n",
      "((8, 20), ' flow = ', 16)\n",
      "((25, 26), ' flow = ', 0)\n",
      "((7, 19), ' flow = ', 14)\n",
      "((20, 9), ' flow = ', 0)\n",
      "((5, 17), ' flow = ', 0)\n",
      "((1, 10), ' flow = ', 15)\n",
      "((10, 22), ' flow = ', 15)\n",
      "((6, 18), ' flow = ', 11)\n",
      "((21, 26), ' flow = ', 18)\n",
      "((1, 13), ' flow = ', 0)\n",
      "((1, 4), ' flow = ', 0)\n",
      "((4, 16), ' flow = ', 0)\n",
      "((15, 4), ' flow = ', 0)\n",
      "((1, 9), ' flow = ', 18)\n",
      "((22, 11), ' flow = ', 0)\n",
      "((2, 14), ' flow = ', 0)\n",
      "((16, 5), ' flow = ', 0)\n",
      "((1, 12), ' flow = ', 0)\n",
      "((18, 7), ' flow = ', 0)\n",
      "((1, 8), ' flow = ', 16)\n",
      "((21, 10), ' flow = ', 0)\n",
      "((1, 7), ' flow = ', 14)\n",
      "((14, 3), ' flow = ', 0)\n",
      "((24, 13), ' flow = ', 0)\n",
      "((12, 24), ' flow = ', 0)\n",
      "((16, 26), ' flow = ', 0)\n"
     ]
    }
   ],
   "source": [
    "Iterate(G)"
   ]
  },
  {
   "cell_type": "code",
   "execution_count": 106,
   "metadata": {},
   "outputs": [
    {
     "name": "stdout",
     "output_type": "stream",
     "text": [
      "('Incremental Network:', set([(3, 15), (1, 3), (9, 1), (24, 26), (11, 23), (14, 26), (1, 6), (23, 26), (20, 8), (23, 12), (17, 26), (1, 11), (15, 26), (1, 2), (17, 6), (26, 20), (1, 5), (8, 1), (13, 25), (8, 20), (25, 26), (7, 19), (20, 9), (5, 17), (1, 10), (10, 22), (26, 21), (6, 18), (7, 1), (1, 13), (1, 7), (1, 4), (4, 16), (15, 4), (18, 6), (1, 9), (10, 1), (22, 11), (2, 14), (26, 18), (22, 10), (16, 5), (1, 12), (21, 9), (6, 1), (26, 22), (18, 7), (1, 8), (21, 10), (9, 21), (19, 7), (14, 3), (24, 13), (26, 19), (12, 24), (16, 26)]))\n",
      "('Paths from source to sink: ', set([(1, 3, 15, 26), (1, 8, 20, 9, 21, 10, 22, 11, 23, 12, 24, 26), (1, 12, 24, 13, 25, 26), (1, 8, 20, 9, 21, 10, 22, 11, 23, 26), (1, 2, 14, 3, 15, 4, 16, 5, 17, 26), (1, 8, 20, 9, 21, 10, 22, 11, 23, 12, 24, 13, 25, 26), (1, 2, 14, 3, 15, 26), (1, 11, 23, 12, 24, 26), (1, 11, 23, 12, 24, 13, 25, 26), (1, 4, 16, 26), (1, 12, 24, 26), (1, 3, 15, 4, 16, 26), (1, 2, 14, 26), (1, 9, 21, 10, 22, 11, 23, 12, 24, 13, 25, 26), (1, 9, 21, 10, 22, 11, 23, 26), (1, 9, 21, 10, 22, 11, 23, 12, 24, 26), (1, 11, 23, 26), (1, 3, 15, 4, 16, 5, 17, 26), (1, 13, 25, 26), (1, 10, 22, 11, 23, 26), (1, 10, 22, 11, 23, 12, 24, 26), (1, 4, 16, 5, 17, 26), (1, 2, 14, 3, 15, 4, 16, 26), (1, 5, 17, 26), (1, 10, 22, 11, 23, 12, 24, 13, 25, 26)]))\n",
      "('A best path in Gp is ', (1, 11, 23, 26), ' of minimum cost ', 15)\n",
      "('The min capacity on this path is epsilon ', 5)\n",
      "('The min cost is ', 15)\n",
      "((19, 8), ' flow = ', 0)\n",
      "((3, 15), ' flow = ', 0)\n",
      "((1, 3), ' flow = ', 0)\n",
      "((19, 26), ' flow = ', 14)\n",
      "((22, 26), ' flow = ', 15)\n",
      "((24, 26), ' flow = ', 0)\n",
      "((18, 26), ' flow = ', 11)\n",
      "((11, 23), ' flow = ', 10)\n",
      "((14, 26), ' flow = ', 0)\n",
      "((1, 6), ' flow = ', 11)\n",
      "((23, 26), ' flow = ', 10)\n",
      "((23, 12), ' flow = ', 0)\n",
      "((17, 26), ' flow = ', 0)\n",
      "((1, 11), ' flow = ', 10)\n",
      "((13, 25), ' flow = ', 0)\n",
      "((15, 26), ' flow = ', 0)\n",
      "((1, 2), ' flow = ', 0)\n",
      "((20, 26), ' flow = ', 16)\n",
      "((17, 6), ' flow = ', 0)\n",
      "((1, 5), ' flow = ', 0)\n",
      "((9, 21), ' flow = ', 18)\n",
      "((8, 20), ' flow = ', 16)\n",
      "((25, 26), ' flow = ', 0)\n",
      "((7, 19), ' flow = ', 14)\n",
      "((20, 9), ' flow = ', 0)\n",
      "((5, 17), ' flow = ', 0)\n",
      "((1, 10), ' flow = ', 15)\n",
      "((10, 22), ' flow = ', 15)\n",
      "((6, 18), ' flow = ', 11)\n",
      "((21, 26), ' flow = ', 18)\n",
      "((1, 13), ' flow = ', 0)\n",
      "((1, 4), ' flow = ', 0)\n",
      "((4, 16), ' flow = ', 0)\n",
      "((15, 4), ' flow = ', 0)\n",
      "((1, 9), ' flow = ', 18)\n",
      "((22, 11), ' flow = ', 0)\n",
      "((2, 14), ' flow = ', 0)\n",
      "((16, 5), ' flow = ', 0)\n",
      "((1, 12), ' flow = ', 0)\n",
      "((18, 7), ' flow = ', 0)\n",
      "((1, 8), ' flow = ', 16)\n",
      "((21, 10), ' flow = ', 0)\n",
      "((1, 7), ' flow = ', 14)\n",
      "((14, 3), ' flow = ', 0)\n",
      "((24, 13), ' flow = ', 0)\n",
      "((12, 24), ' flow = ', 0)\n",
      "((16, 26), ' flow = ', 0)\n"
     ]
    }
   ],
   "source": [
    "Iterate(G)"
   ]
  },
  {
   "cell_type": "code",
   "execution_count": 107,
   "metadata": {},
   "outputs": [
    {
     "name": "stdout",
     "output_type": "stream",
     "text": [
      "('Incremental Network:', set([(3, 15), (1, 3), (9, 1), (26, 23), (24, 26), (11, 23), (14, 26), (1, 6), (20, 8), (23, 12), (17, 26), (1, 11), (15, 26), (1, 2), (17, 6), (26, 20), (1, 5), (8, 1), (13, 25), (8, 20), (25, 26), (7, 19), (11, 1), (20, 9), (5, 17), (1, 10), (10, 22), (26, 21), (6, 18), (7, 1), (1, 13), (1, 7), (1, 4), (4, 16), (15, 4), (18, 6), (1, 9), (10, 1), (22, 11), (2, 14), (26, 18), (23, 11), (22, 10), (16, 5), (1, 12), (21, 9), (6, 1), (26, 22), (18, 7), (1, 8), (21, 10), (9, 21), (19, 7), (14, 3), (24, 13), (26, 19), (12, 24), (16, 26)]))\n",
      "('Paths from source to sink: ', set([(1, 3, 15, 26), (1, 8, 20, 9, 21, 10, 22, 11, 23, 12, 24, 26), (1, 12, 24, 13, 25, 26), (1, 2, 14, 3, 15, 4, 16, 5, 17, 26), (1, 8, 20, 9, 21, 10, 22, 11, 23, 12, 24, 13, 25, 26), (1, 2, 14, 3, 15, 26), (1, 11, 23, 12, 24, 26), (1, 3, 15, 4, 16, 5, 17, 26), (1, 12, 24, 26), (1, 4, 16, 26), (1, 3, 15, 4, 16, 26), (1, 2, 14, 26), (1, 9, 21, 10, 22, 11, 23, 12, 24, 13, 25, 26), (1, 5, 17, 26), (1, 9, 21, 10, 22, 11, 23, 12, 24, 26), (1, 11, 23, 12, 24, 13, 25, 26), (1, 10, 22, 11, 23, 12, 24, 26), (1, 4, 16, 5, 17, 26), (1, 2, 14, 3, 15, 4, 16, 26), (1, 13, 25, 26), (1, 10, 22, 11, 23, 12, 24, 13, 25, 26)]))\n",
      "('A best path in Gp is ', (1, 12, 24, 26), ' of minimum cost ', 16)\n",
      "('The min capacity on this path is epsilon ', 5)\n",
      "('The min cost is ', 16)\n",
      "((19, 8), ' flow = ', 0)\n",
      "((3, 15), ' flow = ', 0)\n",
      "((1, 3), ' flow = ', 0)\n",
      "((19, 26), ' flow = ', 14)\n",
      "((22, 26), ' flow = ', 15)\n",
      "((24, 26), ' flow = ', 7)\n",
      "((18, 26), ' flow = ', 11)\n",
      "((11, 23), ' flow = ', 10)\n",
      "((14, 26), ' flow = ', 0)\n",
      "((1, 6), ' flow = ', 11)\n",
      "((23, 26), ' flow = ', 10)\n",
      "((23, 12), ' flow = ', 0)\n",
      "((17, 26), ' flow = ', 0)\n",
      "((1, 11), ' flow = ', 10)\n",
      "((13, 25), ' flow = ', 0)\n",
      "((15, 26), ' flow = ', 0)\n",
      "((1, 2), ' flow = ', 0)\n",
      "((20, 26), ' flow = ', 16)\n",
      "((17, 6), ' flow = ', 0)\n",
      "((1, 5), ' flow = ', 0)\n",
      "((9, 21), ' flow = ', 18)\n",
      "((8, 20), ' flow = ', 16)\n",
      "((25, 26), ' flow = ', 0)\n",
      "((7, 19), ' flow = ', 14)\n",
      "((20, 9), ' flow = ', 0)\n",
      "((5, 17), ' flow = ', 0)\n",
      "((1, 10), ' flow = ', 15)\n",
      "((10, 22), ' flow = ', 15)\n",
      "((6, 18), ' flow = ', 11)\n",
      "((21, 26), ' flow = ', 18)\n",
      "((1, 13), ' flow = ', 0)\n",
      "((1, 4), ' flow = ', 0)\n",
      "((4, 16), ' flow = ', 0)\n",
      "((15, 4), ' flow = ', 0)\n",
      "((1, 9), ' flow = ', 18)\n",
      "((22, 11), ' flow = ', 0)\n",
      "((2, 14), ' flow = ', 0)\n",
      "((16, 5), ' flow = ', 0)\n",
      "((1, 12), ' flow = ', 7)\n",
      "((18, 7), ' flow = ', 0)\n",
      "((1, 8), ' flow = ', 16)\n",
      "((21, 10), ' flow = ', 0)\n",
      "((1, 7), ' flow = ', 14)\n",
      "((14, 3), ' flow = ', 0)\n",
      "((24, 13), ' flow = ', 0)\n",
      "((12, 24), ' flow = ', 7)\n",
      "((16, 26), ' flow = ', 0)\n"
     ]
    }
   ],
   "source": [
    "Iterate(G)"
   ]
  },
  {
   "cell_type": "code",
   "execution_count": 108,
   "metadata": {},
   "outputs": [
    {
     "name": "stdout",
     "output_type": "stream",
     "text": [
      "('Incremental Network:', set([(26, 24), (1, 3), (12, 1), (9, 1), (3, 15), (26, 23), (11, 23), (14, 26), (1, 6), (20, 8), (23, 12), (1, 11), (15, 26), (1, 2), (17, 6), (26, 20), (1, 5), (8, 1), (13, 25), (8, 20), (25, 26), (7, 19), (11, 1), (20, 9), (5, 17), (1, 10), (10, 22), (26, 21), (6, 18), (7, 1), (1, 13), (24, 12), (14, 3), (1, 4), (4, 16), (15, 4), (18, 6), (1, 9), (10, 1), (22, 11), (2, 14), (26, 18), (23, 11), (22, 10), (16, 5), (1, 12), (21, 9), (6, 1), (26, 22), (1, 7), (18, 7), (1, 8), (21, 10), (9, 21), (19, 7), (17, 26), (24, 13), (26, 19), (12, 24), (16, 26)]))\n",
      "('Paths from source to sink: ', set([(1, 3, 15, 26), (1, 12, 24, 13, 25, 26), (1, 9, 21, 10, 22, 11, 23, 12, 24, 13, 25, 26), (1, 5, 17, 26), (1, 8, 20, 9, 21, 10, 22, 11, 23, 12, 24, 13, 25, 26), (1, 2, 14, 3, 15, 4, 16, 5, 17, 26), (1, 2, 14, 26), (1, 3, 15, 4, 16, 5, 17, 26), (1, 2, 14, 3, 15, 26), (1, 3, 15, 4, 16, 26), (1, 11, 23, 12, 24, 13, 25, 26), (1, 4, 16, 5, 17, 26), (1, 2, 14, 3, 15, 4, 16, 26), (1, 13, 25, 26), (1, 10, 22, 11, 23, 12, 24, 13, 25, 26), (1, 4, 16, 26)]))\n",
      "('A best path in Gp is ', (1, 5, 17, 26), ' of minimum cost ', 17)\n",
      "('The min capacity on this path is epsilon ', 6)\n",
      "('The min cost is ', 17)\n",
      "((19, 8), ' flow = ', 0)\n",
      "((3, 15), ' flow = ', 0)\n",
      "((1, 3), ' flow = ', 0)\n",
      "((19, 26), ' flow = ', 14)\n",
      "((22, 26), ' flow = ', 15)\n",
      "((24, 26), ' flow = ', 7)\n",
      "((18, 26), ' flow = ', 11)\n",
      "((11, 23), ' flow = ', 10)\n",
      "((14, 26), ' flow = ', 0)\n",
      "((1, 6), ' flow = ', 11)\n",
      "((23, 26), ' flow = ', 10)\n",
      "((23, 12), ' flow = ', 0)\n",
      "((17, 26), ' flow = ', 7)\n",
      "((1, 11), ' flow = ', 10)\n",
      "((13, 25), ' flow = ', 0)\n",
      "((15, 26), ' flow = ', 0)\n",
      "((1, 2), ' flow = ', 0)\n",
      "((20, 26), ' flow = ', 16)\n",
      "((17, 6), ' flow = ', 0)\n",
      "((1, 5), ' flow = ', 7)\n",
      "((9, 21), ' flow = ', 18)\n",
      "((8, 20), ' flow = ', 16)\n",
      "((25, 26), ' flow = ', 0)\n",
      "((7, 19), ' flow = ', 14)\n",
      "((20, 9), ' flow = ', 0)\n",
      "((5, 17), ' flow = ', 7)\n",
      "((1, 10), ' flow = ', 15)\n",
      "((10, 22), ' flow = ', 15)\n",
      "((6, 18), ' flow = ', 11)\n",
      "((21, 26), ' flow = ', 18)\n",
      "((1, 13), ' flow = ', 0)\n",
      "((1, 4), ' flow = ', 0)\n",
      "((4, 16), ' flow = ', 0)\n",
      "((15, 4), ' flow = ', 0)\n",
      "((1, 9), ' flow = ', 18)\n",
      "((22, 11), ' flow = ', 0)\n",
      "((2, 14), ' flow = ', 0)\n",
      "((16, 5), ' flow = ', 0)\n",
      "((1, 12), ' flow = ', 7)\n",
      "((18, 7), ' flow = ', 0)\n",
      "((1, 8), ' flow = ', 16)\n",
      "((21, 10), ' flow = ', 0)\n",
      "((1, 7), ' flow = ', 14)\n",
      "((14, 3), ' flow = ', 0)\n",
      "((24, 13), ' flow = ', 0)\n",
      "((12, 24), ' flow = ', 7)\n",
      "((16, 26), ' flow = ', 0)\n"
     ]
    }
   ],
   "source": [
    "Iterate(G)"
   ]
  },
  {
   "cell_type": "code",
   "execution_count": 109,
   "metadata": {},
   "outputs": [
    {
     "name": "stdout",
     "output_type": "stream",
     "text": [
      "('Incremental Network:', set([(26, 24), (1, 3), (12, 1), (9, 1), (3, 15), (26, 23), (11, 23), (14, 26), (1, 6), (20, 8), (23, 12), (5, 1), (1, 11), (15, 26), (1, 2), (17, 6), (26, 20), (1, 5), (8, 1), (13, 25), (8, 20), (25, 26), (7, 19), (11, 1), (20, 9), (26, 17), (5, 17), (1, 10), (19, 7), (10, 22), (17, 5), (26, 21), (6, 18), (7, 1), (1, 13), (1, 7), (1, 4), (4, 16), (15, 4), (18, 6), (1, 9), (10, 1), (22, 11), (2, 14), (26, 18), (23, 11), (22, 10), (16, 5), (1, 12), (21, 9), (6, 1), (26, 22), (18, 7), (1, 8), (21, 10), (9, 21), (24, 12), (14, 3), (24, 13), (26, 19), (12, 24), (16, 26)]))\n",
      "('Paths from source to sink: ', set([(1, 3, 15, 26), (1, 12, 24, 13, 25, 26), (1, 9, 21, 10, 22, 11, 23, 12, 24, 13, 25, 26), (1, 2, 14, 26), (1, 11, 23, 12, 24, 13, 25, 26), (1, 2, 14, 3, 15, 26), (1, 3, 15, 4, 16, 26), (1, 8, 20, 9, 21, 10, 22, 11, 23, 12, 24, 13, 25, 26), (1, 2, 14, 3, 15, 4, 16, 26), (1, 13, 25, 26), (1, 10, 22, 11, 23, 12, 24, 13, 25, 26), (1, 4, 16, 26)]))\n",
      "('A best path in Gp is ', (1, 3, 15, 26), ' of minimum cost ', 18)\n",
      "('The min capacity on this path is epsilon ', 6)\n",
      "('The min cost is ', 18)\n",
      "((19, 8), ' flow = ', 0)\n",
      "((3, 15), ' flow = ', 6)\n",
      "((1, 3), ' flow = ', 6)\n",
      "((19, 26), ' flow = ', 14)\n",
      "((22, 26), ' flow = ', 15)\n",
      "((24, 26), ' flow = ', 7)\n",
      "((18, 26), ' flow = ', 11)\n",
      "((11, 23), ' flow = ', 10)\n",
      "((14, 26), ' flow = ', 0)\n",
      "((1, 6), ' flow = ', 11)\n",
      "((23, 26), ' flow = ', 10)\n",
      "((23, 12), ' flow = ', 0)\n",
      "((17, 26), ' flow = ', 7)\n",
      "((1, 11), ' flow = ', 10)\n",
      "((13, 25), ' flow = ', 0)\n",
      "((15, 26), ' flow = ', 6)\n",
      "((1, 2), ' flow = ', 0)\n",
      "((20, 26), ' flow = ', 16)\n",
      "((17, 6), ' flow = ', 0)\n",
      "((1, 5), ' flow = ', 7)\n",
      "((9, 21), ' flow = ', 18)\n",
      "((8, 20), ' flow = ', 16)\n",
      "((25, 26), ' flow = ', 0)\n",
      "((7, 19), ' flow = ', 14)\n",
      "((20, 9), ' flow = ', 0)\n",
      "((5, 17), ' flow = ', 7)\n",
      "((1, 10), ' flow = ', 15)\n",
      "((10, 22), ' flow = ', 15)\n",
      "((6, 18), ' flow = ', 11)\n",
      "((21, 26), ' flow = ', 18)\n",
      "((1, 13), ' flow = ', 0)\n",
      "((1, 4), ' flow = ', 0)\n",
      "((4, 16), ' flow = ', 0)\n",
      "((15, 4), ' flow = ', 0)\n",
      "((1, 9), ' flow = ', 18)\n",
      "((22, 11), ' flow = ', 0)\n",
      "((2, 14), ' flow = ', 0)\n",
      "((16, 5), ' flow = ', 0)\n",
      "((1, 12), ' flow = ', 7)\n",
      "((18, 7), ' flow = ', 0)\n",
      "((1, 8), ' flow = ', 16)\n",
      "((21, 10), ' flow = ', 0)\n",
      "((1, 7), ' flow = ', 14)\n",
      "((14, 3), ' flow = ', 0)\n",
      "((24, 13), ' flow = ', 0)\n",
      "((12, 24), ' flow = ', 7)\n",
      "((16, 26), ' flow = ', 0)\n"
     ]
    }
   ],
   "source": [
    "Iterate(G)"
   ]
  },
  {
   "cell_type": "code",
   "execution_count": 110,
   "metadata": {},
   "outputs": [
    {
     "name": "stdout",
     "output_type": "stream",
     "text": [
      "('Incremental Network:', set([(3, 15), (1, 3), (12, 1), (9, 1), (26, 24), (26, 23), (11, 23), (16, 26), (14, 26), (1, 6), (20, 8), (23, 12), (5, 1), (1, 11), (1, 2), (17, 6), (26, 20), (1, 5), (8, 1), (13, 25), (8, 20), (25, 26), (7, 19), (11, 1), (20, 9), (26, 17), (15, 3), (1, 10), (1, 7), (10, 22), (26, 15), (26, 21), (6, 18), (7, 1), (1, 13), (5, 17), (24, 12), (17, 5), (4, 16), (15, 4), (18, 6), (1, 4), (10, 1), (22, 11), (2, 14), (26, 18), (23, 11), (22, 10), (16, 5), (1, 12), (21, 9), (6, 1), (3, 1), (26, 22), (18, 7), (1, 8), (21, 10), (9, 21), (19, 7), (14, 3), (24, 13), (26, 19), (12, 24), (1, 9)]))\n",
      "('Paths from source to sink: ', set([(1, 2, 14, 26), (1, 12, 24, 13, 25, 26), (1, 9, 21, 10, 22, 11, 23, 12, 24, 13, 25, 26), (1, 8, 20, 9, 21, 10, 22, 11, 23, 12, 24, 13, 25, 26), (1, 11, 23, 12, 24, 13, 25, 26), (1, 3, 15, 4, 16, 26), (1, 2, 14, 3, 15, 4, 16, 26), (1, 4, 16, 26), (1, 10, 22, 11, 23, 12, 24, 13, 25, 26), (1, 13, 25, 26)]))\n",
      "('A best path in Gp is ', (1, 13, 25, 26), ' of minimum cost ', 18)\n",
      "('The min capacity on this path is epsilon ', 6)\n",
      "('The min cost is ', 18)\n",
      "((19, 8), ' flow = ', 0)\n",
      "((3, 15), ' flow = ', 6)\n",
      "((1, 3), ' flow = ', 6)\n",
      "((19, 26), ' flow = ', 14)\n",
      "((22, 26), ' flow = ', 15)\n",
      "((24, 26), ' flow = ', 7)\n",
      "((18, 26), ' flow = ', 11)\n",
      "((11, 23), ' flow = ', 10)\n",
      "((14, 26), ' flow = ', 0)\n",
      "((1, 6), ' flow = ', 11)\n",
      "((23, 26), ' flow = ', 10)\n",
      "((23, 12), ' flow = ', 0)\n",
      "((17, 26), ' flow = ', 7)\n",
      "((1, 11), ' flow = ', 10)\n",
      "((13, 25), ' flow = ', 6)\n",
      "((15, 26), ' flow = ', 6)\n",
      "((1, 2), ' flow = ', 0)\n",
      "((20, 26), ' flow = ', 16)\n",
      "((17, 6), ' flow = ', 0)\n",
      "((1, 5), ' flow = ', 7)\n",
      "((9, 21), ' flow = ', 18)\n",
      "((8, 20), ' flow = ', 16)\n",
      "((25, 26), ' flow = ', 6)\n",
      "((7, 19), ' flow = ', 14)\n",
      "((20, 9), ' flow = ', 0)\n",
      "((5, 17), ' flow = ', 7)\n",
      "((1, 10), ' flow = ', 15)\n",
      "((10, 22), ' flow = ', 15)\n",
      "((6, 18), ' flow = ', 11)\n",
      "((21, 26), ' flow = ', 18)\n",
      "((1, 13), ' flow = ', 6)\n",
      "((1, 4), ' flow = ', 0)\n",
      "((4, 16), ' flow = ', 0)\n",
      "((15, 4), ' flow = ', 0)\n",
      "((1, 9), ' flow = ', 18)\n",
      "((22, 11), ' flow = ', 0)\n",
      "((2, 14), ' flow = ', 0)\n",
      "((16, 5), ' flow = ', 0)\n",
      "((1, 12), ' flow = ', 7)\n",
      "((18, 7), ' flow = ', 0)\n",
      "((1, 8), ' flow = ', 16)\n",
      "((21, 10), ' flow = ', 0)\n",
      "((1, 7), ' flow = ', 14)\n",
      "((14, 3), ' flow = ', 0)\n",
      "((24, 13), ' flow = ', 0)\n",
      "((12, 24), ' flow = ', 7)\n",
      "((16, 26), ' flow = ', 0)\n"
     ]
    }
   ],
   "source": [
    "Iterate(G)"
   ]
  },
  {
   "cell_type": "code",
   "execution_count": 111,
   "metadata": {},
   "outputs": [
    {
     "name": "stdout",
     "output_type": "stream",
     "text": [
      "('Incremental Network:', set([(3, 15), (1, 3), (12, 1), (8, 20), (21, 9), (14, 26), (1, 6), (1, 11), (26, 25), (26, 20), (13, 25), (7, 19), (20, 9), (26, 17), (15, 4), (17, 5), (6, 18), (15, 3), (1, 4), (4, 16), (1, 9), (22, 11), (2, 14), (26, 18), (10, 22), (16, 5), (1, 12), (3, 1), (18, 7), (25, 13), (21, 10), (1, 7), (26, 24), (9, 1), (26, 23), (11, 23), (24, 13), (20, 8), (23, 12), (5, 1), (1, 2), (17, 6), (8, 1), (23, 11), (12, 24), (1, 5), (11, 1), (1, 13), (1, 10), (22, 10), (26, 15), (26, 21), (7, 1), (5, 17), (24, 12), (18, 6), (16, 26), (10, 1), (13, 1), (6, 1), (26, 22), (1, 8), (9, 21), (19, 7), (14, 3), (26, 19)]))\n",
      "('Paths from source to sink: ', set([(1, 2, 14, 3, 15, 4, 16, 26), (1, 2, 14, 26), (1, 3, 15, 4, 16, 26), (1, 4, 16, 26)]))\n",
      "('A best path in Gp is ', (1, 2, 14, 26), ' of minimum cost ', 19)\n",
      "('The min capacity on this path is epsilon ', 6)\n",
      "('The min cost is ', 19)\n",
      "((19, 8), ' flow = ', 0)\n",
      "((3, 15), ' flow = ', 6)\n",
      "((1, 3), ' flow = ', 6)\n",
      "((19, 26), ' flow = ', 14)\n",
      "((22, 26), ' flow = ', 15)\n",
      "((24, 26), ' flow = ', 7)\n",
      "((18, 26), ' flow = ', 11)\n",
      "((11, 23), ' flow = ', 10)\n",
      "((14, 26), ' flow = ', 9)\n",
      "((1, 6), ' flow = ', 11)\n",
      "((23, 26), ' flow = ', 10)\n",
      "((23, 12), ' flow = ', 0)\n",
      "((17, 26), ' flow = ', 7)\n",
      "((1, 11), ' flow = ', 10)\n",
      "((13, 25), ' flow = ', 6)\n",
      "((15, 26), ' flow = ', 6)\n",
      "((1, 2), ' flow = ', 9)\n",
      "((20, 26), ' flow = ', 16)\n",
      "((17, 6), ' flow = ', 0)\n",
      "((1, 5), ' flow = ', 7)\n",
      "((9, 21), ' flow = ', 18)\n",
      "((8, 20), ' flow = ', 16)\n",
      "((25, 26), ' flow = ', 6)\n",
      "((7, 19), ' flow = ', 14)\n",
      "((20, 9), ' flow = ', 0)\n",
      "((5, 17), ' flow = ', 7)\n",
      "((1, 10), ' flow = ', 15)\n",
      "((10, 22), ' flow = ', 15)\n",
      "((6, 18), ' flow = ', 11)\n",
      "((21, 26), ' flow = ', 18)\n",
      "((1, 13), ' flow = ', 6)\n",
      "((1, 4), ' flow = ', 0)\n",
      "((4, 16), ' flow = ', 0)\n",
      "((15, 4), ' flow = ', 0)\n",
      "((1, 9), ' flow = ', 18)\n",
      "((22, 11), ' flow = ', 0)\n",
      "((2, 14), ' flow = ', 9)\n",
      "((16, 5), ' flow = ', 0)\n",
      "((1, 12), ' flow = ', 7)\n",
      "((18, 7), ' flow = ', 0)\n",
      "((1, 8), ' flow = ', 16)\n",
      "((21, 10), ' flow = ', 0)\n",
      "((1, 7), ' flow = ', 14)\n",
      "((14, 3), ' flow = ', 0)\n",
      "((24, 13), ' flow = ', 0)\n",
      "((12, 24), ' flow = ', 7)\n",
      "((16, 26), ' flow = ', 0)\n"
     ]
    }
   ],
   "source": [
    "Iterate(G)"
   ]
  },
  {
   "cell_type": "code",
   "execution_count": 112,
   "metadata": {},
   "outputs": [
    {
     "name": "stdout",
     "output_type": "stream",
     "text": [
      "('Incremental Network:', set([(3, 15), (1, 3), (12, 1), (21, 9), (26, 14), (1, 6), (1, 11), (26, 25), (14, 2), (26, 20), (13, 25), (7, 19), (20, 9), (26, 17), (15, 4), (17, 5), (6, 18), (15, 3), (1, 4), (4, 16), (1, 9), (22, 11), (2, 14), (26, 18), (10, 22), (16, 5), (1, 12), (3, 1), (18, 7), (25, 13), (21, 10), (1, 7), (12, 24), (26, 24), (9, 1), (26, 23), (2, 1), (11, 23), (24, 13), (20, 8), (23, 12), (5, 1), (1, 2), (17, 6), (8, 1), (19, 7), (8, 20), (1, 5), (11, 1), (1, 13), (1, 10), (22, 10), (26, 15), (26, 21), (7, 1), (5, 17), (18, 6), (16, 26), (10, 1), (13, 1), (23, 11), (6, 1), (26, 22), (1, 8), (9, 21), (24, 12), (14, 3), (26, 19)]))\n",
      "('Paths from source to sink: ', set([(1, 2, 14, 3, 15, 4, 16, 26), (1, 4, 16, 26), (1, 3, 15, 4, 16, 26)]))\n",
      "('A best path in Gp is ', (1, 4, 16, 26), ' of minimum cost ', 19)\n",
      "('The min capacity on this path is epsilon ', 6)\n",
      "('The min cost is ', 19)\n",
      "((19, 8), ' flow = ', 0)\n",
      "((3, 15), ' flow = ', 6)\n",
      "((1, 3), ' flow = ', 6)\n",
      "((19, 26), ' flow = ', 14)\n",
      "((22, 26), ' flow = ', 15)\n",
      "((24, 26), ' flow = ', 7)\n",
      "((18, 26), ' flow = ', 11)\n",
      "((11, 23), ' flow = ', 10)\n",
      "((14, 26), ' flow = ', 9)\n",
      "((1, 6), ' flow = ', 11)\n",
      "((23, 26), ' flow = ', 10)\n",
      "((23, 12), ' flow = ', 0)\n",
      "((17, 26), ' flow = ', 7)\n",
      "((1, 11), ' flow = ', 10)\n",
      "((13, 25), ' flow = ', 6)\n",
      "((15, 26), ' flow = ', 6)\n",
      "((1, 2), ' flow = ', 9)\n",
      "((20, 26), ' flow = ', 16)\n",
      "((17, 6), ' flow = ', 0)\n",
      "((1, 5), ' flow = ', 7)\n",
      "((9, 21), ' flow = ', 18)\n",
      "((8, 20), ' flow = ', 16)\n",
      "((25, 26), ' flow = ', 6)\n",
      "((7, 19), ' flow = ', 14)\n",
      "((20, 9), ' flow = ', 0)\n",
      "((5, 17), ' flow = ', 7)\n",
      "((1, 10), ' flow = ', 15)\n",
      "((10, 22), ' flow = ', 15)\n",
      "((6, 18), ' flow = ', 11)\n",
      "((21, 26), ' flow = ', 18)\n",
      "((1, 13), ' flow = ', 6)\n",
      "((1, 4), ' flow = ', 6)\n",
      "((4, 16), ' flow = ', 6)\n",
      "((15, 4), ' flow = ', 0)\n",
      "((1, 9), ' flow = ', 18)\n",
      "((22, 11), ' flow = ', 0)\n",
      "((2, 14), ' flow = ', 9)\n",
      "((16, 5), ' flow = ', 0)\n",
      "((1, 12), ' flow = ', 7)\n",
      "((18, 7), ' flow = ', 0)\n",
      "((1, 8), ' flow = ', 16)\n",
      "((21, 10), ' flow = ', 0)\n",
      "((1, 7), ' flow = ', 14)\n",
      "((14, 3), ' flow = ', 0)\n",
      "((24, 13), ' flow = ', 0)\n",
      "((12, 24), ' flow = ', 7)\n",
      "((16, 26), ' flow = ', 6)\n"
     ]
    }
   ],
   "source": [
    "Iterate(G)"
   ]
  },
  {
   "cell_type": "code",
   "execution_count": 113,
   "metadata": {},
   "outputs": [
    {
     "name": "stdout",
     "output_type": "stream",
     "text": [
      "('Incremental Network:', set([(3, 15), (1, 3), (12, 1), (21, 9), (26, 14), (1, 6), (1, 11), (26, 25), (14, 2), (26, 20), (13, 25), (26, 16), (7, 19), (20, 9), (26, 17), (15, 4), (17, 5), (6, 18), (15, 3), (1, 4), (4, 16), (1, 9), (22, 11), (2, 14), (26, 18), (10, 22), (16, 5), (1, 12), (3, 1), (18, 7), (25, 13), (21, 10), (1, 7), (12, 24), (26, 24), (9, 1), (26, 23), (2, 1), (11, 23), (24, 13), (20, 8), (23, 12), (5, 1), (1, 2), (17, 6), (8, 1), (19, 7), (16, 4), (8, 20), (1, 5), (11, 1), (1, 13), (1, 10), (22, 10), (4, 1), (26, 15), (26, 21), (7, 1), (5, 17), (18, 6), (10, 1), (13, 1), (23, 11), (6, 1), (26, 22), (1, 8), (9, 21), (24, 12), (14, 3), (26, 19)]))\n",
      "('Paths from source to sink: ', set([]))\n",
      "('Maximal flow found:', 125, ' with minimal cost ', 1863)\n",
      "((19, 8), ' flow = ', 0)\n",
      "((3, 15), ' flow = ', 6)\n",
      "((1, 3), ' flow = ', 6)\n",
      "((19, 26), ' flow = ', 14)\n",
      "((22, 26), ' flow = ', 15)\n",
      "((24, 26), ' flow = ', 7)\n",
      "((18, 26), ' flow = ', 11)\n",
      "((11, 23), ' flow = ', 10)\n",
      "((14, 26), ' flow = ', 9)\n",
      "((1, 6), ' flow = ', 11)\n",
      "((23, 26), ' flow = ', 10)\n",
      "((23, 12), ' flow = ', 0)\n",
      "((17, 26), ' flow = ', 7)\n",
      "((1, 11), ' flow = ', 10)\n",
      "((13, 25), ' flow = ', 6)\n",
      "((15, 26), ' flow = ', 6)\n",
      "((1, 2), ' flow = ', 9)\n",
      "((20, 26), ' flow = ', 16)\n",
      "((17, 6), ' flow = ', 0)\n",
      "((1, 5), ' flow = ', 7)\n",
      "((9, 21), ' flow = ', 18)\n",
      "((8, 20), ' flow = ', 16)\n",
      "((25, 26), ' flow = ', 6)\n",
      "((7, 19), ' flow = ', 14)\n",
      "((20, 9), ' flow = ', 0)\n",
      "((5, 17), ' flow = ', 7)\n",
      "((1, 10), ' flow = ', 15)\n",
      "((10, 22), ' flow = ', 15)\n",
      "((6, 18), ' flow = ', 11)\n",
      "((21, 26), ' flow = ', 18)\n",
      "((1, 13), ' flow = ', 6)\n",
      "((1, 4), ' flow = ', 6)\n",
      "((4, 16), ' flow = ', 6)\n",
      "((15, 4), ' flow = ', 0)\n",
      "((1, 9), ' flow = ', 18)\n",
      "((22, 11), ' flow = ', 0)\n",
      "((2, 14), ' flow = ', 9)\n",
      "((16, 5), ' flow = ', 0)\n",
      "((1, 12), ' flow = ', 7)\n",
      "((18, 7), ' flow = ', 0)\n",
      "((1, 8), ' flow = ', 16)\n",
      "((21, 10), ' flow = ', 0)\n",
      "((1, 7), ' flow = ', 14)\n",
      "((14, 3), ' flow = ', 0)\n",
      "((24, 13), ' flow = ', 0)\n",
      "((12, 24), ' flow = ', 7)\n",
      "((16, 26), ' flow = ', 6)\n"
     ]
    }
   ],
   "source": [
    "Iterate(G)"
   ]
  },
  {
   "cell_type": "code",
   "execution_count": 114,
   "metadata": {},
   "outputs": [
    {
     "name": "stdout",
     "output_type": "stream",
     "text": [
      "('Incremental Network:', set([(3, 15), (1, 3), (12, 1), (21, 9), (26, 14), (1, 6), (1, 11), (26, 25), (14, 2), (26, 20), (13, 25), (26, 16), (7, 19), (20, 9), (26, 17), (15, 4), (17, 5), (6, 18), (15, 3), (1, 4), (4, 16), (1, 9), (22, 11), (2, 14), (26, 18), (10, 22), (16, 5), (1, 12), (3, 1), (18, 7), (25, 13), (21, 10), (1, 7), (12, 24), (26, 24), (9, 1), (26, 23), (2, 1), (11, 23), (24, 13), (20, 8), (23, 12), (5, 1), (1, 2), (17, 6), (8, 1), (19, 7), (16, 4), (8, 20), (1, 5), (11, 1), (1, 13), (1, 10), (22, 10), (4, 1), (26, 15), (26, 21), (7, 1), (5, 17), (18, 6), (10, 1), (13, 1), (23, 11), (6, 1), (26, 22), (1, 8), (9, 21), (24, 12), (14, 3), (26, 19)]))\n",
      "('Paths from source to sink: ', set([]))\n",
      "('Maximal flow found:', 125, ' with minimal cost ', 1863)\n",
      "((19, 8), ' flow = ', 0)\n",
      "((3, 15), ' flow = ', 6)\n",
      "((1, 3), ' flow = ', 6)\n",
      "((19, 26), ' flow = ', 14)\n",
      "((22, 26), ' flow = ', 15)\n",
      "((24, 26), ' flow = ', 7)\n",
      "((18, 26), ' flow = ', 11)\n",
      "((11, 23), ' flow = ', 10)\n",
      "((14, 26), ' flow = ', 9)\n",
      "((1, 6), ' flow = ', 11)\n",
      "((23, 26), ' flow = ', 10)\n",
      "((23, 12), ' flow = ', 0)\n",
      "((17, 26), ' flow = ', 7)\n",
      "((1, 11), ' flow = ', 10)\n",
      "((13, 25), ' flow = ', 6)\n",
      "((15, 26), ' flow = ', 6)\n",
      "((1, 2), ' flow = ', 9)\n",
      "((20, 26), ' flow = ', 16)\n",
      "((17, 6), ' flow = ', 0)\n",
      "((1, 5), ' flow = ', 7)\n",
      "((9, 21), ' flow = ', 18)\n",
      "((8, 20), ' flow = ', 16)\n",
      "((25, 26), ' flow = ', 6)\n",
      "((7, 19), ' flow = ', 14)\n",
      "((20, 9), ' flow = ', 0)\n",
      "((5, 17), ' flow = ', 7)\n",
      "((1, 10), ' flow = ', 15)\n",
      "((10, 22), ' flow = ', 15)\n",
      "((6, 18), ' flow = ', 11)\n",
      "((21, 26), ' flow = ', 18)\n",
      "((1, 13), ' flow = ', 6)\n",
      "((1, 4), ' flow = ', 6)\n",
      "((4, 16), ' flow = ', 6)\n",
      "((15, 4), ' flow = ', 0)\n",
      "((1, 9), ' flow = ', 18)\n",
      "((22, 11), ' flow = ', 0)\n",
      "((2, 14), ' flow = ', 9)\n",
      "((16, 5), ' flow = ', 0)\n",
      "((1, 12), ' flow = ', 7)\n",
      "((18, 7), ' flow = ', 0)\n",
      "((1, 8), ' flow = ', 16)\n",
      "((21, 10), ' flow = ', 0)\n",
      "((1, 7), ' flow = ', 14)\n",
      "((14, 3), ' flow = ', 0)\n",
      "((24, 13), ' flow = ', 0)\n",
      "((12, 24), ' flow = ', 7)\n",
      "((16, 26), ' flow = ', 6)\n"
     ]
    }
   ],
   "source": [
    "Iterate(G)"
   ]
  },
  {
   "cell_type": "code",
   "execution_count": null,
   "metadata": {},
   "outputs": [],
   "source": [
    "#c alculation for question2 "
   ]
  },
  {
   "cell_type": "code",
   "execution_count": null,
   "metadata": {},
   "outputs": [],
   "source": []
  },
  {
   "cell_type": "code",
   "execution_count": null,
   "metadata": {},
   "outputs": [],
   "source": [
    "#Suppose that the firm has 500kg of fruit in storage at the beginning of the year.\n",
    "What is the best purchasing schedule that ensures that 500kg are again in storage\n",
    "at the very end of the year"
   ]
  },
  {
   "cell_type": "code",
   "execution_count": null,
   "metadata": {},
   "outputs": [],
   "source": [
    "def Initialise20 (Gin):\n",
    "    global c,phi,l,cp,lp,Nsink\n",
    "    Nsink=1\n",
    "    for arc in Gin:\n",
    "        i,j=arc\n",
    "        Nsink=max(Nsink,i,j)\n",
    "    # for convenience c[i][j] is capacity of arc [i,j]\n",
    "    c=[[20 for i in range(Nsink+1)] for j in range(Nsink+1)]\n",
    "    phi=[[0 for i in range(Nsink+1)] for j in range(Nsink+1)]\n",
    "    l=[[0 for i in range(Nsink+1)] for j in range(Nsink+1)]\n",
    "    cp=[[0 for i in range(Nsink+1)] for j in range(Nsink+1)]\n",
    "    lp=[[0 for i in range(Nsink+1)] for j in range(Nsink+1)]\n",
    "    print(\"All values of phi and l initialised to zero, c to 20\")"
   ]
  },
  {
   "cell_type": "code",
   "execution_count": null,
   "metadata": {},
   "outputs": [],
   "source": []
  }
 ],
 "metadata": {
  "kernelspec": {
   "display_name": "Python 2",
   "language": "python",
   "name": "python2"
  },
  "language_info": {
   "codemirror_mode": {
    "name": "ipython",
    "version": 2
   },
   "file_extension": ".py",
   "mimetype": "text/x-python",
   "name": "python",
   "nbconvert_exporter": "python",
   "pygments_lexer": "ipython2",
   "version": "2.7.14"
  }
 },
 "nbformat": 4,
 "nbformat_minor": 2
}
